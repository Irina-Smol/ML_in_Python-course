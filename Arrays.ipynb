{
 "cells": [
  {
   "cell_type": "code",
   "execution_count": null,
   "id": "c2a97540",
   "metadata": {},
   "outputs": [],
   "source": [
    "import numpy as np"
   ]
  },
  {
   "cell_type": "markdown",
   "id": "0137069c",
   "metadata": {},
   "source": [
    "# Массивы NumPy"
   ]
  },
  {
   "cell_type": "markdown",
   "id": "ba454830",
   "metadata": {},
   "source": [
    "Массивы NumPy бывают двух типов: векторы (vectors) и матрицы (matrices). Векторы - это строго одноразмерные массивы (1D), а матрицы - двумерные массивы (2D). \n",
    "Матрица может состоять только из одной строки или только из одного столбца."
   ]
  },
  {
   "cell_type": "markdown",
   "id": "5a0c56ee",
   "metadata": {},
   "source": [
    "Зачем использовать массивы Numpy? Почему нельзя просто использовать список?\n",
    "\n",
    "Есть много причин, по которым массивы Numpy могут быть лучше \"стандартного\" списка List в Python.\n",
    "основные причины:\n",
    "\n",
    "- Эффективное управление памятью\n",
    "- Легко расширяется до N-размерных объектов\n",
    "- Скорость вычислений для массивов numpy\n",
    "- Возможность применять операции и функции сразу для всех элементов массива (broadcasting)\n",
    "- Все библиотеки data science и машинного обучения, которые мы будем использовать, построены на основе Numpy"
   ]
  },
  {
   "cell_type": "code",
   "execution_count": 2,
   "id": "70e7766c",
   "metadata": {},
   "outputs": [
    {
     "data": {
      "text/plain": [
       "[1, 2, 3]"
      ]
     },
     "execution_count": 2,
     "metadata": {},
     "output_type": "execute_result"
    }
   ],
   "source": [
    "# создание массивов на основе списка Python\n",
    "my_list = [1,2,3]\n",
    "my_list"
   ]
  },
  {
   "cell_type": "code",
   "execution_count": 3,
   "id": "d220b9d8",
   "metadata": {},
   "outputs": [
    {
     "data": {
      "text/plain": [
       "array([1, 2, 3])"
      ]
     },
     "execution_count": 3,
     "metadata": {},
     "output_type": "execute_result"
    }
   ],
   "source": [
    "np.array(my_list)"
   ]
  },
  {
   "cell_type": "code",
   "execution_count": 4,
   "id": "a3bfa66a",
   "metadata": {},
   "outputs": [
    {
     "data": {
      "text/plain": [
       "[[1, 2, 3], [4, 5, 6], [7, 8, 9]]"
      ]
     },
     "execution_count": 4,
     "metadata": {},
     "output_type": "execute_result"
    }
   ],
   "source": [
    "my_matrix = [[1,2,3],[4,5,6],[7,8,9]]\n",
    "my_matrix"
   ]
  },
  {
   "cell_type": "code",
   "execution_count": 5,
   "id": "2333500f",
   "metadata": {},
   "outputs": [
    {
     "data": {
      "text/plain": [
       "array([[1, 2, 3],\n",
       "       [4, 5, 6],\n",
       "       [7, 8, 9]])"
      ]
     },
     "execution_count": 5,
     "metadata": {},
     "output_type": "execute_result"
    }
   ],
   "source": [
    "np.array(my_matrix)"
   ]
  },
  {
   "cell_type": "markdown",
   "id": "9d056940",
   "metadata": {},
   "source": [
    "## Встроенные методы для создания списков"
   ]
  },
  {
   "cell_type": "markdown",
   "id": "7612c496",
   "metadata": {},
   "source": [
    "### arange\n",
    "Возвращает равноудалённые друг от друга значения в заданном интервале"
   ]
  },
  {
   "cell_type": "code",
   "execution_count": 6,
   "id": "00a8c816",
   "metadata": {},
   "outputs": [
    {
     "data": {
      "text/plain": [
       "array([0, 1, 2, 3, 4, 5, 6, 7, 8, 9])"
      ]
     },
     "execution_count": 6,
     "metadata": {},
     "output_type": "execute_result"
    }
   ],
   "source": [
    "np.arange(0,10)"
   ]
  },
  {
   "cell_type": "code",
   "execution_count": 7,
   "id": "7c8fd90a",
   "metadata": {},
   "outputs": [
    {
     "data": {
      "text/plain": [
       "array([ 0,  2,  4,  6,  8, 10])"
      ]
     },
     "execution_count": 7,
     "metadata": {},
     "output_type": "execute_result"
    }
   ],
   "source": [
    "np.arange(0,11,2)"
   ]
  },
  {
   "cell_type": "markdown",
   "id": "0cc751b3",
   "metadata": {},
   "source": [
    "### zeros и ones - нули и единицы\n",
    "Создание массивов из нулей или единиц"
   ]
  },
  {
   "cell_type": "code",
   "execution_count": 8,
   "id": "bc2603a0",
   "metadata": {},
   "outputs": [
    {
     "data": {
      "text/plain": [
       "array([0., 0., 0.])"
      ]
     },
     "execution_count": 8,
     "metadata": {},
     "output_type": "execute_result"
    }
   ],
   "source": [
    "np.zeros(3)"
   ]
  },
  {
   "cell_type": "code",
   "execution_count": 9,
   "id": "8d801754",
   "metadata": {},
   "outputs": [
    {
     "data": {
      "text/plain": [
       "array([[0., 0., 0., 0., 0.],\n",
       "       [0., 0., 0., 0., 0.],\n",
       "       [0., 0., 0., 0., 0.],\n",
       "       [0., 0., 0., 0., 0.],\n",
       "       [0., 0., 0., 0., 0.]])"
      ]
     },
     "execution_count": 9,
     "metadata": {},
     "output_type": "execute_result"
    }
   ],
   "source": [
    "np.zeros((5,5))"
   ]
  },
  {
   "cell_type": "code",
   "execution_count": 10,
   "id": "da084e29",
   "metadata": {},
   "outputs": [
    {
     "data": {
      "text/plain": [
       "array([1., 1., 1.])"
      ]
     },
     "execution_count": 10,
     "metadata": {},
     "output_type": "execute_result"
    }
   ],
   "source": [
    "np.ones(3)"
   ]
  },
  {
   "cell_type": "code",
   "execution_count": 11,
   "id": "da54dc7d",
   "metadata": {},
   "outputs": [
    {
     "data": {
      "text/plain": [
       "array([[1., 1., 1.],\n",
       "       [1., 1., 1.],\n",
       "       [1., 1., 1.]])"
      ]
     },
     "execution_count": 11,
     "metadata": {},
     "output_type": "execute_result"
    }
   ],
   "source": [
    "np.ones((3,3))"
   ]
  },
  {
   "cell_type": "markdown",
   "id": "11d61509",
   "metadata": {},
   "source": [
    "### linspace\n",
    "Возвращает равноудалённые друг от друга числа в заданном интервале\n",
    "\n",
    "Этот метод очень похож на arange, но если в arange мы указывали шаг между числами, то в linspace мы указываем количество чисел. Это особенно полезно для чисел float."
   ]
  },
  {
   "cell_type": "code",
   "execution_count": 12,
   "id": "31ec8927",
   "metadata": {},
   "outputs": [
    {
     "data": {
      "text/plain": [
       "array([ 0.,  5., 10.])"
      ]
     },
     "execution_count": 12,
     "metadata": {},
     "output_type": "execute_result"
    }
   ],
   "source": [
    "np.linspace(0,10,3)"
   ]
  },
  {
   "cell_type": "code",
   "execution_count": 13,
   "id": "72a92190",
   "metadata": {},
   "outputs": [
    {
     "data": {
      "text/plain": [
       "array([0.        , 0.26315789, 0.52631579, 0.78947368, 1.05263158,\n",
       "       1.31578947, 1.57894737, 1.84210526, 2.10526316, 2.36842105,\n",
       "       2.63157895, 2.89473684, 3.15789474, 3.42105263, 3.68421053,\n",
       "       3.94736842, 4.21052632, 4.47368421, 4.73684211, 5.        ])"
      ]
     },
     "execution_count": 13,
     "metadata": {},
     "output_type": "execute_result"
    }
   ],
   "source": [
    "np.linspace(0,5,20)"
   ]
  },
  {
   "cell_type": "markdown",
   "id": "9744ca49",
   "metadata": {},
   "source": [
    ".linspace() включает верхнюю границу диапазона. \n",
    "Поэтому если, например,мы хотим разделить интервал от 0 до 5 на 20 отрезков, то нужно указать количество чисел 21:"
   ]
  },
  {
   "cell_type": "code",
   "execution_count": 15,
   "id": "a1992e8e",
   "metadata": {},
   "outputs": [
    {
     "data": {
      "text/plain": [
       "array([0.  , 0.25, 0.5 , 0.75, 1.  , 1.25, 1.5 , 1.75, 2.  , 2.25, 2.5 ,\n",
       "       2.75, 3.  , 3.25, 3.5 , 3.75, 4.  , 4.25, 4.5 , 4.75, 5.  ])"
      ]
     },
     "execution_count": 15,
     "metadata": {},
     "output_type": "execute_result"
    }
   ],
   "source": [
    "np.linspace(0,5,21)"
   ]
  },
  {
   "cell_type": "markdown",
   "id": "891f267b",
   "metadata": {},
   "source": [
    "### eye\n",
    "\n",
    "Создаёт единичную матрицу - единицы на главной диагонали, остальные нули"
   ]
  },
  {
   "cell_type": "code",
   "execution_count": 16,
   "id": "35b16480",
   "metadata": {},
   "outputs": [
    {
     "data": {
      "text/plain": [
       "array([[1., 0., 0., 0.],\n",
       "       [0., 1., 0., 0.],\n",
       "       [0., 0., 1., 0.],\n",
       "       [0., 0., 0., 1.]])"
      ]
     },
     "execution_count": 16,
     "metadata": {},
     "output_type": "execute_result"
    }
   ],
   "source": [
    "np.eye(4)"
   ]
  },
  {
   "cell_type": "markdown",
   "id": "38f5c9f8",
   "metadata": {},
   "source": [
    "## Случайные числа (Random Numbers)\n",
    "\n",
    "В Numpy есть много разных способов создавать массивы со случайными числами:"
   ]
  },
  {
   "cell_type": "markdown",
   "id": "819ecd91",
   "metadata": {},
   "source": [
    "### rand\n",
    "\n",
    "Создаёт массив указанной размерности, и заполняет его случайными числами с равномерным распределением вероятности на отрезке [0, 1)"
   ]
  },
  {
   "cell_type": "code",
   "execution_count": 17,
   "id": "538dd4e6",
   "metadata": {},
   "outputs": [
    {
     "data": {
      "text/plain": [
       "array([0.19890744, 0.7056066 ])"
      ]
     },
     "execution_count": 17,
     "metadata": {},
     "output_type": "execute_result"
    }
   ],
   "source": [
    "np.random.rand(2)"
   ]
  },
  {
   "cell_type": "code",
   "execution_count": 18,
   "id": "5820a6a8",
   "metadata": {},
   "outputs": [
    {
     "data": {
      "text/plain": [
       "array([[0.10181579, 0.69239072, 0.6630276 , 0.23245994, 0.51353417],\n",
       "       [0.18964398, 0.18636004, 0.65924629, 0.48548985, 0.72680091],\n",
       "       [0.9026436 , 0.37011474, 0.67904754, 0.58668387, 0.92127275],\n",
       "       [0.149376  , 0.1621946 , 0.61461124, 0.26587615, 0.27496911],\n",
       "       [0.10358653, 0.7635462 , 0.01353765, 0.54354587, 0.43379738]])"
      ]
     },
     "execution_count": 18,
     "metadata": {},
     "output_type": "execute_result"
    }
   ],
   "source": [
    "np.random.rand(5,5)"
   ]
  },
  {
   "cell_type": "markdown",
   "id": "bb0e7cfe",
   "metadata": {},
   "source": [
    "### randn\n",
    "\n",
    "Возвращает сэмпл (или сэмплы) из стандартного нормального распределения [σ = 1] в диапазоне от -1 до +1. В отличие от rand , в котором распределение равномерное, здесь более вероятны значения в середине диапазона (около нуля)."
   ]
  },
  {
   "cell_type": "code",
   "execution_count": 19,
   "id": "508afd7c",
   "metadata": {},
   "outputs": [
    {
     "data": {
      "text/plain": [
       "array([ 0.58414549, -0.56060848])"
      ]
     },
     "execution_count": 19,
     "metadata": {},
     "output_type": "execute_result"
    }
   ],
   "source": [
    "np.random.randn(2)"
   ]
  },
  {
   "cell_type": "code",
   "execution_count": 20,
   "id": "68463ae7",
   "metadata": {},
   "outputs": [
    {
     "data": {
      "text/plain": [
       "array([[ 1.15883173,  0.28715293,  0.77566788,  1.72037123, -0.69390086],\n",
       "       [-0.3900153 , -2.28601311,  1.153304  ,  0.35112744,  0.21019217],\n",
       "       [-0.27172106, -0.14522004, -1.70278229, -0.28879479,  0.18739576],\n",
       "       [ 0.85465809,  0.65532457, -2.19824026, -1.61062649,  0.35685207],\n",
       "       [-0.72109822, -0.49076826, -0.61107713, -0.13032808,  0.91431071]])"
      ]
     },
     "execution_count": 20,
     "metadata": {},
     "output_type": "execute_result"
    }
   ],
   "source": [
    "np.random.randn(5,5)"
   ]
  },
  {
   "cell_type": "markdown",
   "id": "7b1515df",
   "metadata": {},
   "source": [
    "### randint\n",
    "\n",
    "Возвращает случайные целые числа в диапазоне от low (включительно) до high (не включая это значение)"
   ]
  },
  {
   "cell_type": "code",
   "execution_count": 21,
   "id": "45c6e0dc",
   "metadata": {},
   "outputs": [
    {
     "data": {
      "text/plain": [
       "73"
      ]
     },
     "execution_count": 21,
     "metadata": {},
     "output_type": "execute_result"
    }
   ],
   "source": [
    "np.random.randint(1,100)"
   ]
  },
  {
   "cell_type": "code",
   "execution_count": 22,
   "id": "7c2c31f8",
   "metadata": {},
   "outputs": [
    {
     "data": {
      "text/plain": [
       "array([31, 50, 79, 94, 55, 53, 65, 59, 69, 75])"
      ]
     },
     "execution_count": 22,
     "metadata": {},
     "output_type": "execute_result"
    }
   ],
   "source": [
    "np.random.randint(1,100,10)"
   ]
  },
  {
   "cell_type": "markdown",
   "id": "17c6b146",
   "metadata": {},
   "source": [
    "### seed\n",
    "\n",
    "Эту функцию можно использовать для задания начальной точки генерации случайных чисел, чтобы можно было воспроизвести одни и те же \"случайные\" числа"
   ]
  },
  {
   "cell_type": "code",
   "execution_count": 23,
   "id": "cfe24e91",
   "metadata": {},
   "outputs": [
    {
     "data": {
      "text/plain": [
       "array([0.37454012, 0.95071431, 0.73199394, 0.59865848])"
      ]
     },
     "execution_count": 23,
     "metadata": {},
     "output_type": "execute_result"
    }
   ],
   "source": [
    "np.random.seed(42)\n",
    "np.random.rand(4)"
   ]
  },
  {
   "cell_type": "code",
   "execution_count": 24,
   "id": "4bd43dc1",
   "metadata": {},
   "outputs": [
    {
     "data": {
      "text/plain": [
       "array([0.37454012, 0.95071431, 0.73199394, 0.59865848])"
      ]
     },
     "execution_count": 24,
     "metadata": {},
     "output_type": "execute_result"
    }
   ],
   "source": [
    "np.random.seed(42)\n",
    "np.random.rand(4)"
   ]
  },
  {
   "cell_type": "markdown",
   "id": "8eb0fe7c",
   "metadata": {},
   "source": [
    "## Атрибуты и методы массивов\n",
    "\n",
    "Давайте обсудим некоторые полезные атрибуты и методы для массивов:"
   ]
  },
  {
   "cell_type": "code",
   "execution_count": 27,
   "id": "e5d122f4",
   "metadata": {},
   "outputs": [
    {
     "data": {
      "text/plain": [
       "array([ 0,  1,  2,  3,  4,  5,  6,  7,  8,  9, 10, 11, 12, 13, 14, 15, 16,\n",
       "       17, 18, 19, 20, 21, 22, 23, 24])"
      ]
     },
     "execution_count": 27,
     "metadata": {},
     "output_type": "execute_result"
    }
   ],
   "source": [
    "arr = np.arange(25)\n",
    "ranarr = np.random.randint(0,50,10)\n",
    "arr"
   ]
  },
  {
   "cell_type": "code",
   "execution_count": 28,
   "id": "486c2330",
   "metadata": {},
   "outputs": [
    {
     "data": {
      "text/plain": [
       "array([21, 43, 24, 48, 26, 41, 27, 15, 14, 46])"
      ]
     },
     "execution_count": 28,
     "metadata": {},
     "output_type": "execute_result"
    }
   ],
   "source": [
    "ranarr"
   ]
  },
  {
   "cell_type": "markdown",
   "id": "9eb23a6f",
   "metadata": {},
   "source": [
    "### Reshape\n",
    "\n",
    "Возвращает массив с теми же данными, но с новой размерностью массива"
   ]
  },
  {
   "cell_type": "code",
   "execution_count": 29,
   "id": "756415eb",
   "metadata": {},
   "outputs": [
    {
     "data": {
      "text/plain": [
       "array([[ 0,  1,  2,  3,  4],\n",
       "       [ 5,  6,  7,  8,  9],\n",
       "       [10, 11, 12, 13, 14],\n",
       "       [15, 16, 17, 18, 19],\n",
       "       [20, 21, 22, 23, 24]])"
      ]
     },
     "execution_count": 29,
     "metadata": {},
     "output_type": "execute_result"
    }
   ],
   "source": [
    "arr.reshape(5,5)"
   ]
  },
  {
   "cell_type": "markdown",
   "id": "fa4936d4",
   "metadata": {},
   "source": [
    "### max, min, argmax, argmin\n",
    "\n",
    "Это полезные методы для поиска максимального и минимального значения, а также их местоположения с помощью argmax и argmin"
   ]
  },
  {
   "cell_type": "code",
   "execution_count": 30,
   "id": "9f44440f",
   "metadata": {},
   "outputs": [
    {
     "data": {
      "text/plain": [
       "array([21, 43, 24, 48, 26, 41, 27, 15, 14, 46])"
      ]
     },
     "execution_count": 30,
     "metadata": {},
     "output_type": "execute_result"
    }
   ],
   "source": [
    "ranarr"
   ]
  },
  {
   "cell_type": "code",
   "execution_count": 31,
   "id": "c17a9827",
   "metadata": {},
   "outputs": [
    {
     "data": {
      "text/plain": [
       "48"
      ]
     },
     "execution_count": 31,
     "metadata": {},
     "output_type": "execute_result"
    }
   ],
   "source": [
    "ranarr.max()"
   ]
  },
  {
   "cell_type": "code",
   "execution_count": 32,
   "id": "3fe26d32",
   "metadata": {},
   "outputs": [
    {
     "data": {
      "text/plain": [
       "3"
      ]
     },
     "execution_count": 32,
     "metadata": {},
     "output_type": "execute_result"
    }
   ],
   "source": [
    "ranarr.argmax()"
   ]
  },
  {
   "cell_type": "markdown",
   "id": "d0fc6a01",
   "metadata": {},
   "source": [
    "### Shape\n",
    "\n",
    "Shape - это атрибут массивов (не метод)"
   ]
  },
  {
   "cell_type": "code",
   "execution_count": 33,
   "id": "827c1ee8",
   "metadata": {},
   "outputs": [
    {
     "data": {
      "text/plain": [
       "(25,)"
      ]
     },
     "execution_count": 33,
     "metadata": {},
     "output_type": "execute_result"
    }
   ],
   "source": [
    "# Вектор\n",
    "arr.shape"
   ]
  },
  {
   "cell_type": "code",
   "execution_count": 34,
   "id": "f95f6205",
   "metadata": {},
   "outputs": [
    {
     "data": {
      "text/plain": [
       "array([[ 0,  1,  2,  3,  4,  5,  6,  7,  8,  9, 10, 11, 12, 13, 14, 15,\n",
       "        16, 17, 18, 19, 20, 21, 22, 23, 24]])"
      ]
     },
     "execution_count": 34,
     "metadata": {},
     "output_type": "execute_result"
    }
   ],
   "source": [
    "# два набора скобок\n",
    "arr.reshape(1,25)"
   ]
  },
  {
   "cell_type": "code",
   "execution_count": 35,
   "id": "6f3e6d74",
   "metadata": {},
   "outputs": [
    {
     "data": {
      "text/plain": [
       "(1, 25)"
      ]
     },
     "execution_count": 35,
     "metadata": {},
     "output_type": "execute_result"
    }
   ],
   "source": [
    "arr.reshape(1,25).shape"
   ]
  },
  {
   "cell_type": "code",
   "execution_count": 36,
   "id": "c41b1b30",
   "metadata": {},
   "outputs": [
    {
     "data": {
      "text/plain": [
       "array([[ 0],\n",
       "       [ 1],\n",
       "       [ 2],\n",
       "       [ 3],\n",
       "       [ 4],\n",
       "       [ 5],\n",
       "       [ 6],\n",
       "       [ 7],\n",
       "       [ 8],\n",
       "       [ 9],\n",
       "       [10],\n",
       "       [11],\n",
       "       [12],\n",
       "       [13],\n",
       "       [14],\n",
       "       [15],\n",
       "       [16],\n",
       "       [17],\n",
       "       [18],\n",
       "       [19],\n",
       "       [20],\n",
       "       [21],\n",
       "       [22],\n",
       "       [23],\n",
       "       [24]])"
      ]
     },
     "execution_count": 36,
     "metadata": {},
     "output_type": "execute_result"
    }
   ],
   "source": [
    "arr.reshape(25,1)"
   ]
  },
  {
   "cell_type": "code",
   "execution_count": 37,
   "id": "fa9feac7",
   "metadata": {},
   "outputs": [
    {
     "data": {
      "text/plain": [
       "(25, 1)"
      ]
     },
     "execution_count": 37,
     "metadata": {},
     "output_type": "execute_result"
    }
   ],
   "source": [
    "arr.reshape(25,1).shape"
   ]
  },
  {
   "cell_type": "markdown",
   "id": "ee768571",
   "metadata": {},
   "source": [
    "### dtype\n",
    "\n",
    "Вы можете также посмотреть тип данных объектов внутри массива"
   ]
  },
  {
   "cell_type": "code",
   "execution_count": 38,
   "id": "da264dbd",
   "metadata": {},
   "outputs": [
    {
     "data": {
      "text/plain": [
       "dtype('int32')"
      ]
     },
     "execution_count": 38,
     "metadata": {},
     "output_type": "execute_result"
    }
   ],
   "source": [
    "arr.dtype"
   ]
  },
  {
   "cell_type": "code",
   "execution_count": 39,
   "id": "bbae5020",
   "metadata": {},
   "outputs": [
    {
     "data": {
      "text/plain": [
       "dtype('float64')"
      ]
     },
     "execution_count": 39,
     "metadata": {},
     "output_type": "execute_result"
    }
   ],
   "source": [
    "arr2 = np.array([1.2, 3.4, 5.6])\n",
    "arr2.dtype"
   ]
  },
  {
   "cell_type": "code",
   "execution_count": null,
   "id": "dc222c95",
   "metadata": {},
   "outputs": [],
   "source": []
  }
 ],
 "metadata": {
  "kernelspec": {
   "display_name": "Python 3 (ipykernel)",
   "language": "python",
   "name": "python3"
  },
  "language_info": {
   "codemirror_mode": {
    "name": "ipython",
    "version": 3
   },
   "file_extension": ".py",
   "mimetype": "text/x-python",
   "name": "python",
   "nbconvert_exporter": "python",
   "pygments_lexer": "ipython3",
   "version": "3.9.13"
  }
 },
 "nbformat": 4,
 "nbformat_minor": 5
}
