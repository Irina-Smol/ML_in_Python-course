{
 "cells": [
  {
   "cell_type": "markdown",
   "id": "a9c27fe2",
   "metadata": {},
   "source": [
    "# Операции с массивами"
   ]
  },
  {
   "cell_type": "markdown",
   "id": "7a377914",
   "metadata": {},
   "source": [
    "## Функция len()"
   ]
  },
  {
   "cell_type": "code",
   "execution_count": 1,
   "id": "f962bb30",
   "metadata": {},
   "outputs": [],
   "source": [
    "import numpy as np"
   ]
  },
  {
   "cell_type": "code",
   "execution_count": 2,
   "id": "92824f23",
   "metadata": {},
   "outputs": [
    {
     "data": {
      "text/plain": [
       "array([[[ 0,  1,  2],\n",
       "        [ 3,  4,  5]],\n",
       "\n",
       "       [[ 6,  7,  8],\n",
       "        [ 9, 10, 11]]])"
      ]
     },
     "execution_count": 2,
     "metadata": {},
     "output_type": "execute_result"
    }
   ],
   "source": [
    "arr_3D = np.arange(12).reshape(2, 2, 3)\n",
    "arr_3D"
   ]
  },
  {
   "cell_type": "code",
   "execution_count": 3,
   "id": "120b3dd2",
   "metadata": {},
   "outputs": [
    {
     "data": {
      "text/plain": [
       "2"
      ]
     },
     "execution_count": 3,
     "metadata": {},
     "output_type": "execute_result"
    }
   ],
   "source": [
    "len(arr_3D) # две матрицы"
   ]
  },
  {
   "cell_type": "code",
   "execution_count": 4,
   "id": "9605654e",
   "metadata": {},
   "outputs": [
    {
     "data": {
      "text/plain": [
       "3"
      ]
     },
     "execution_count": 4,
     "metadata": {},
     "output_type": "execute_result"
    }
   ],
   "source": [
    "len(arr_3D[0][0]) # длину внутреннего измерения, т.е. вектора из трех элементов (ось 1)"
   ]
  },
  {
   "cell_type": "markdown",
   "id": "4a2cdabb",
   "metadata": {},
   "source": [
    "## Вхождение элемента в массив"
   ]
  },
  {
   "cell_type": "code",
   "execution_count": 5,
   "id": "c5fa3784",
   "metadata": {},
   "outputs": [
    {
     "data": {
      "text/plain": [
       "True"
      ]
     },
     "execution_count": 5,
     "metadata": {},
     "output_type": "execute_result"
    }
   ],
   "source": [
    "3 in arr_3D"
   ]
  },
  {
   "cell_type": "code",
   "execution_count": 7,
   "id": "02eee304",
   "metadata": {},
   "outputs": [
    {
     "data": {
      "text/plain": [
       "False"
      ]
     },
     "execution_count": 7,
     "metadata": {},
     "output_type": "execute_result"
    }
   ],
   "source": [
    "11 not in arr_3D"
   ]
  },
  {
   "cell_type": "markdown",
   "id": "b2817e8c",
   "metadata": {},
   "source": [
    "## Распаковка массива"
   ]
  },
  {
   "cell_type": "code",
   "execution_count": 8,
   "id": "a3615c15",
   "metadata": {},
   "outputs": [
    {
     "data": {
      "text/plain": [
       "array([[ 1,  2,  3,  4,  5,  6,  7,  8,  9],\n",
       "       [10, 11, 12, 13, 14, 15, 16, 17, 18],\n",
       "       [19, 20, 21, 22, 23, 24, 25, 26, 27]])"
      ]
     },
     "execution_count": 8,
     "metadata": {},
     "output_type": "execute_result"
    }
   ],
   "source": [
    "a = np.arange(1, 28).reshape(3, 9)\n",
    "a"
   ]
  },
  {
   "cell_type": "code",
   "execution_count": 9,
   "id": "2fb4ccec",
   "metadata": {},
   "outputs": [],
   "source": [
    "x, y, z = a"
   ]
  },
  {
   "cell_type": "code",
   "execution_count": 10,
   "id": "d9da1cfc",
   "metadata": {},
   "outputs": [
    {
     "data": {
      "text/plain": [
       "array([1, 2, 3, 4, 5, 6, 7, 8, 9])"
      ]
     },
     "execution_count": 10,
     "metadata": {},
     "output_type": "execute_result"
    }
   ],
   "source": [
    "x"
   ]
  },
  {
   "cell_type": "code",
   "execution_count": 11,
   "id": "55bcac66",
   "metadata": {},
   "outputs": [],
   "source": [
    "x, *y, z = a[0] # распакуем первый, последний и остальные элементы первой строки в отдельные переменные"
   ]
  },
  {
   "cell_type": "code",
   "execution_count": 12,
   "id": "f28cf3b7",
   "metadata": {},
   "outputs": [
    {
     "name": "stdout",
     "output_type": "stream",
     "text": [
      "1\n",
      "[2, 3, 4, 5, 6, 7, 8]\n",
      "9\n"
     ]
    }
   ],
   "source": [
    "print(x)\n",
    "print(y)\n",
    "print(z)"
   ]
  },
  {
   "cell_type": "markdown",
   "id": "b3982cc3",
   "metadata": {},
   "source": [
    "## Изменение элементов массива"
   ]
  },
  {
   "cell_type": "code",
   "execution_count": 13,
   "id": "33c78c16",
   "metadata": {},
   "outputs": [
    {
     "data": {
      "text/plain": [
       "array([[1, 2, 3],\n",
       "       [4, 5, 6]])"
      ]
     },
     "execution_count": 13,
     "metadata": {},
     "output_type": "execute_result"
    }
   ],
   "source": [
    "arr_2D = np.array([[1, 2, 3], [4, 5, 6]])\n",
    "arr_2D"
   ]
  },
  {
   "cell_type": "code",
   "execution_count": 14,
   "id": "c43d2ee5",
   "metadata": {},
   "outputs": [
    {
     "data": {
      "text/plain": [
       "array([[2, 2, 3],\n",
       "       [4, 5, 6]])"
      ]
     },
     "execution_count": 14,
     "metadata": {},
     "output_type": "execute_result"
    }
   ],
   "source": [
    "arr_2D[0, 0] = 2 # Заменим первый элемент первой строки по его индексу\n",
    "arr_2D"
   ]
  },
  {
   "cell_type": "code",
   "execution_count": 15,
   "id": "bda05bbf",
   "metadata": {},
   "outputs": [
    {
     "data": {
      "text/plain": [
       "array([[1, 1, 1],\n",
       "       [4, 5, 6]])"
      ]
     },
     "execution_count": 15,
     "metadata": {},
     "output_type": "execute_result"
    }
   ],
   "source": [
    "arr_2D[0] = 1 # Запишем значение 1 в первую строку\n",
    "arr_2D"
   ]
  },
  {
   "cell_type": "code",
   "execution_count": 16,
   "id": "bb747f35",
   "metadata": {},
   "outputs": [
    {
     "data": {
      "text/plain": [
       "array([[1, 1, 0],\n",
       "       [4, 5, 0]])"
      ]
     },
     "execution_count": 16,
     "metadata": {},
     "output_type": "execute_result"
    }
   ],
   "source": [
    "arr_2D[:,2] = 0 # Пусть третий столбец массива состоит из нулей\n",
    "arr_2D"
   ]
  },
  {
   "cell_type": "code",
   "execution_count": 17,
   "id": "8a7e119b",
   "metadata": {},
   "outputs": [
    {
     "data": {
      "text/plain": [
       "array([[1, 1, 0],\n",
       "       [0, 0, 0]])"
      ]
     },
     "execution_count": 17,
     "metadata": {},
     "output_type": "execute_result"
    }
   ],
   "source": [
    "arr_2D[1,:] = 0 # Пусть вторая строка массива состоит из нулей\n",
    "arr_2D"
   ]
  },
  {
   "cell_type": "code",
   "execution_count": 18,
   "id": "68b95b94",
   "metadata": {},
   "outputs": [
    {
     "data": {
      "text/plain": [
       "array([[[ 0,  1,  2],\n",
       "        [ 3,  4,  5]],\n",
       "\n",
       "       [[ 6,  7,  8],\n",
       "        [ 9, 10, 11]]])"
      ]
     },
     "execution_count": 18,
     "metadata": {},
     "output_type": "execute_result"
    }
   ],
   "source": [
    "arr_3D = np.arange(12).reshape(2, 2, 3)\n",
    "arr_3D"
   ]
  },
  {
   "cell_type": "code",
   "execution_count": 19,
   "id": "af2a8cb4",
   "metadata": {},
   "outputs": [
    {
     "data": {
      "text/plain": [
       "array([[[ 0,  1,  2],\n",
       "        [ 3,  4,  5]],\n",
       "\n",
       "       [[ 6,  0,  8],\n",
       "        [ 9,  1, 11]]])"
      ]
     },
     "execution_count": 19,
     "metadata": {},
     "output_type": "execute_result"
    }
   ],
   "source": [
    "# при такой операции размер среза должен совпадать\n",
    "# с количеством передаваемых значений\n",
    "arr_3D[1, :, 1] = [0, 1] # Выберем второй столбец второй матрицы и заменим значения столбца 7 и 10 на 0 и 1\n",
    "arr_3D"
   ]
  },
  {
   "cell_type": "code",
   "execution_count": 20,
   "id": "3c4c31a9",
   "metadata": {},
   "outputs": [
    {
     "data": {
      "text/plain": [
       "array([[[7, 7, 7],\n",
       "        [7, 7, 7]],\n",
       "\n",
       "       [[7, 7, 7],\n",
       "        [7, 7, 7]]])"
      ]
     },
     "execution_count": 20,
     "metadata": {},
     "output_type": "execute_result"
    }
   ],
   "source": [
    "arr_3D.fill(7) # Заменим все элементы массива на число семь \n",
    "arr_3D"
   ]
  },
  {
   "cell_type": "markdown",
   "id": "b939cdc9",
   "metadata": {},
   "source": [
    "## Сортировка массива и обратный порядок его элементов"
   ]
  },
  {
   "cell_type": "markdown",
   "id": "25a08819",
   "metadata": {},
   "source": [
    "## Функция np.sort()"
   ]
  },
  {
   "cell_type": "code",
   "execution_count": 21,
   "id": "5845f403",
   "metadata": {},
   "outputs": [
    {
     "data": {
      "text/plain": [
       "array([[4, 8, 2],\n",
       "       [2, 3, 1]])"
      ]
     },
     "execution_count": 21,
     "metadata": {},
     "output_type": "execute_result"
    }
   ],
   "source": [
    "a = np.array([[4, 8, 2], [2, 3, 1]])\n",
    "a"
   ]
  },
  {
   "cell_type": "code",
   "execution_count": 23,
   "id": "9e26dbeb",
   "metadata": {},
   "outputs": [
    {
     "data": {
      "text/plain": [
       "array([[2, 4, 8],\n",
       "       [1, 2, 3]])"
      ]
     },
     "execution_count": 23,
     "metadata": {},
     "output_type": "execute_result"
    }
   ],
   "source": [
    "np.sort(a) # По умолчанию сортировка идет с параметром axis = −1 (последняя ось)"
   ]
  },
  {
   "cell_type": "code",
   "execution_count": 24,
   "id": "7f341d99",
   "metadata": {},
   "outputs": [
    {
     "data": {
      "text/plain": [
       "array([[2, 4, 8],\n",
       "       [1, 2, 3]])"
      ]
     },
     "execution_count": 24,
     "metadata": {},
     "output_type": "execute_result"
    }
   ],
   "source": [
    "np.sort(a, axis = 1)"
   ]
  },
  {
   "cell_type": "code",
   "execution_count": 25,
   "id": "096131ad",
   "metadata": {},
   "outputs": [
    {
     "data": {
      "text/plain": [
       "array([[2, 3, 1],\n",
       "       [4, 8, 2]])"
      ]
     },
     "execution_count": 25,
     "metadata": {},
     "output_type": "execute_result"
    }
   ],
   "source": [
    "np.sort(a, axis = 0)"
   ]
  },
  {
   "cell_type": "code",
   "execution_count": 27,
   "id": "200cffb3",
   "metadata": {},
   "outputs": [
    {
     "data": {
      "text/plain": [
       "array([1, 2, 2, 3, 4, 8])"
      ]
     },
     "execution_count": 27,
     "metadata": {},
     "output_type": "execute_result"
    }
   ],
   "source": [
    "np.sort(a, axis = None) # Параметр axis = None вначале возвращает одномерный массив, а затем сортирует его"
   ]
  },
  {
   "cell_type": "markdown",
   "id": "2d904c2c",
   "metadata": {},
   "source": [
    "## Обратный порядок элементов массива"
   ]
  },
  {
   "cell_type": "code",
   "execution_count": 28,
   "id": "3716bc13",
   "metadata": {},
   "outputs": [
    {
     "data": {
      "text/plain": [
       "array([9, 8, 7, 6, 5, 4, 3, 2, 1, 0])"
      ]
     },
     "execution_count": 28,
     "metadata": {},
     "output_type": "execute_result"
    }
   ],
   "source": [
    "np.array([0, 1, 2, 3, 4, 5, 6, 7, 8, 9])[::-1]"
   ]
  },
  {
   "cell_type": "code",
   "execution_count": 29,
   "id": "c5f44085",
   "metadata": {},
   "outputs": [
    {
     "data": {
      "text/plain": [
       "array([7, 6, 5, 4])"
      ]
     },
     "execution_count": 29,
     "metadata": {},
     "output_type": "execute_result"
    }
   ],
   "source": [
    "# Обратный порядок элементов можно совмещать со срезами\n",
    "np.array([0, 1, 2, 3, 4, 5, 6, 7, 8, 9])[-3: 3: -1]"
   ]
  },
  {
   "cell_type": "code",
   "execution_count": 30,
   "id": "97932bd9",
   "metadata": {},
   "outputs": [
    {
     "data": {
      "text/plain": [
       "array([[4, 8, 2],\n",
       "       [2, 3, 1],\n",
       "       [1, 7, 2]])"
      ]
     },
     "execution_count": 30,
     "metadata": {},
     "output_type": "execute_result"
    }
   ],
   "source": [
    "a = np.array([[4, 8, 2], [2, 3, 1], [1, 7, 2]])\n",
    "a"
   ]
  },
  {
   "cell_type": "code",
   "execution_count": 31,
   "id": "4775443f",
   "metadata": {},
   "outputs": [
    {
     "data": {
      "text/plain": [
       "array([[2, 7, 1],\n",
       "       [1, 3, 2],\n",
       "       [2, 8, 4]])"
      ]
     },
     "execution_count": 31,
     "metadata": {},
     "output_type": "execute_result"
    }
   ],
   "source": [
    "# такая запись аналогична параметру axis = (0, 1)\n",
    "a[::-1, ::-1]"
   ]
  },
  {
   "cell_type": "code",
   "execution_count": 32,
   "id": "5ae8029f",
   "metadata": {},
   "outputs": [
    {
     "data": {
      "text/plain": [
       "array([[1, 7, 2],\n",
       "       [2, 3, 1],\n",
       "       [4, 8, 2]])"
      ]
     },
     "execution_count": 32,
     "metadata": {},
     "output_type": "execute_result"
    }
   ],
   "source": [
    "# обратный порядок по внешнему (axis = 0)\n",
    "a[::-1]"
   ]
  },
  {
   "cell_type": "code",
   "execution_count": 33,
   "id": "8aa83d18",
   "metadata": {},
   "outputs": [
    {
     "data": {
      "text/plain": [
       "array([[2, 8, 4],\n",
       "       [1, 3, 2],\n",
       "       [2, 7, 1]])"
      ]
     },
     "execution_count": 33,
     "metadata": {},
     "output_type": "execute_result"
    }
   ],
   "source": [
    "# и внутреннему измерению (axis = 1)\n",
    "a[:, ::-1]"
   ]
  },
  {
   "cell_type": "code",
   "execution_count": 34,
   "id": "22f1e796",
   "metadata": {},
   "outputs": [
    {
     "data": {
      "text/plain": [
       "array([[2, 7, 1],\n",
       "       [1, 3, 2],\n",
       "       [2, 8, 4]])"
      ]
     },
     "execution_count": 34,
     "metadata": {},
     "output_type": "execute_result"
    }
   ],
   "source": [
    "# то же самое, что axis = (0, 1) \n",
    "np.flip(a) # обратный порядок можно задать через функцию np.flip()"
   ]
  },
  {
   "cell_type": "code",
   "execution_count": 35,
   "id": "138eea32",
   "metadata": {},
   "outputs": [
    {
     "data": {
      "text/plain": [
       "array([[1, 7, 2],\n",
       "       [2, 3, 1],\n",
       "       [4, 8, 2]])"
      ]
     },
     "execution_count": 35,
     "metadata": {},
     "output_type": "execute_result"
    }
   ],
   "source": [
    "# внешнее измерение\n",
    "np.flip(a, axis = 0)"
   ]
  },
  {
   "cell_type": "code",
   "execution_count": 36,
   "id": "8f5dc3cb",
   "metadata": {},
   "outputs": [
    {
     "data": {
      "text/plain": [
       "array([[2, 8, 4],\n",
       "       [1, 3, 2],\n",
       "       [2, 7, 1]])"
      ]
     },
     "execution_count": 36,
     "metadata": {},
     "output_type": "execute_result"
    }
   ],
   "source": [
    "# внутреннее измерение\n",
    "np.flip(a, axis = 1)"
   ]
  },
  {
   "cell_type": "markdown",
   "id": "2c287c59",
   "metadata": {},
   "source": [
    "## Сортировка в убывающем порядке"
   ]
  },
  {
   "cell_type": "code",
   "execution_count": 37,
   "id": "5519c118",
   "metadata": {},
   "outputs": [],
   "source": [
    "# возьмем простой одномерный массив\n",
    "a = np.array([4, 2, 6, 1, 7, 3, 5])"
   ]
  },
  {
   "cell_type": "code",
   "execution_count": 38,
   "id": "06cb8961",
   "metadata": {},
   "outputs": [
    {
     "data": {
      "text/plain": [
       "array([7, 6, 5, 4, 3, 2, 1])"
      ]
     },
     "execution_count": 38,
     "metadata": {},
     "output_type": "execute_result"
    }
   ],
   "source": [
    "np.sort(a)[::-1]"
   ]
  },
  {
   "cell_type": "code",
   "execution_count": 39,
   "id": "54f57fb2",
   "metadata": {},
   "outputs": [
    {
     "data": {
      "text/plain": [
       "array([4, 2, 6, 1, 7, 3, 5])"
      ]
     },
     "execution_count": 39,
     "metadata": {},
     "output_type": "execute_result"
    }
   ],
   "source": [
    "# исходный массив не изменился\n",
    "a"
   ]
  },
  {
   "cell_type": "code",
   "execution_count": 40,
   "id": "abe49686",
   "metadata": {},
   "outputs": [],
   "source": [
    "# здесь нужно сначала задать обратный порядок, а потом отсортировать\n",
    "a[::-1].sort()"
   ]
  },
  {
   "cell_type": "code",
   "execution_count": 41,
   "id": "12ef9941",
   "metadata": {},
   "outputs": [
    {
     "data": {
      "text/plain": [
       "array([7, 6, 5, 4, 3, 2, 1])"
      ]
     },
     "execution_count": 41,
     "metadata": {},
     "output_type": "execute_result"
    }
   ],
   "source": [
    "a"
   ]
  },
  {
   "cell_type": "markdown",
   "id": "4d1545ec",
   "metadata": {},
   "source": [
    "## Изменение размерности"
   ]
  },
  {
   "cell_type": "markdown",
   "id": "ccf0b082",
   "metadata": {},
   "source": [
    "## Метод .reshape()"
   ]
  },
  {
   "cell_type": "code",
   "execution_count": 42,
   "id": "3823aab6",
   "metadata": {},
   "outputs": [
    {
     "data": {
      "text/plain": [
       "array([[[ 0,  1,  2],\n",
       "        [ 3,  4,  5]],\n",
       "\n",
       "       [[ 6,  7,  8],\n",
       "        [ 9, 10, 11]]])"
      ]
     },
     "execution_count": 42,
     "metadata": {},
     "output_type": "execute_result"
    }
   ],
   "source": [
    "arr_3D = np.arange(12).reshape(2, 2, 3)\n",
    "arr_3D"
   ]
  },
  {
   "cell_type": "code",
   "execution_count": 43,
   "id": "ca4c7454",
   "metadata": {},
   "outputs": [
    {
     "data": {
      "text/plain": [
       "12"
      ]
     },
     "execution_count": 43,
     "metadata": {},
     "output_type": "execute_result"
    }
   ],
   "source": [
    "# в нем 12 элементов\n",
    "arr_3D.size"
   ]
  },
  {
   "cell_type": "code",
   "execution_count": 44,
   "id": "a92f8767",
   "metadata": {},
   "outputs": [
    {
     "data": {
      "text/plain": [
       "array([[ 0,  1,  2,  3,  4,  5],\n",
       "       [ 6,  7,  8,  9, 10, 11]])"
      ]
     },
     "execution_count": 44,
     "metadata": {},
     "output_type": "execute_result"
    }
   ],
   "source": [
    "# С помощью метода .reshape() мы можем изменить количество измерений\n",
    "# при этом важно, чтобы общее количество элементов было тем же\n",
    "arr_2D = arr_3D.reshape(2, 6) # превратить этот массив в матрицу с размерностью 2 x 6\n",
    "arr_2D"
   ]
  },
  {
   "cell_type": "markdown",
   "id": "9eb8cfba",
   "metadata": {},
   "source": [
    "## Функция np.resize() и метод .resize()"
   ]
  },
  {
   "cell_type": "markdown",
   "id": "ab322a1a",
   "metadata": {},
   "source": [
    "если мы хотим не только задать другую размерность, но и изменить общее количество элементов, то мы можем воспользоваться функцией np.resize() и методом .resize()"
   ]
  },
  {
   "cell_type": "code",
   "execution_count": 48,
   "id": "feea1865",
   "metadata": {},
   "outputs": [
    {
     "data": {
      "text/plain": [
       "array([[ 0,  1,  2,  3,  4,  5],\n",
       "       [ 6,  7,  8,  9, 10, 11],\n",
       "       [ 0,  1,  2,  3,  4,  5]])"
      ]
     },
     "execution_count": 48,
     "metadata": {},
     "output_type": "execute_result"
    }
   ],
   "source": [
    "# функция np.resize() позволяет не сохранять прежнее количество элементов\n",
    "# существующие элементы копируются в новые ячейки\n",
    "np.resize(arr_2D, (3, 6))"
   ]
  },
  {
   "cell_type": "markdown",
   "id": "36484467",
   "metadata": {},
   "source": [
    "Перед тем как воспользоваться методом .resize() нам необходимо создать копию массива arr_2D. Все дело в том, что переменная arr_2D ссылается на другой массив (в частности, на трехмерный массив arr_3D), а метод .resize() может работать только с исходным массивом"
   ]
  },
  {
   "cell_type": "code",
   "execution_count": 49,
   "id": "89286b1f",
   "metadata": {},
   "outputs": [],
   "source": [
    "arr_2D_copy = arr_2D.copy()"
   ]
  },
  {
   "cell_type": "markdown",
   "id": "56e64fe3",
   "metadata": {},
   "source": [
    "Метод .resize() также создаст отдельную копию, изменит размерность и заполнит пропуски нулями."
   ]
  },
  {
   "cell_type": "code",
   "execution_count": 50,
   "id": "c2c5db66",
   "metadata": {},
   "outputs": [
    {
     "data": {
      "text/plain": [
       "array([[ 0,  1,  2,  3,  4,  5],\n",
       "       [ 6,  7,  8,  9, 10, 11],\n",
       "       [ 0,  0,  0,  0,  0,  0],\n",
       "       [ 0,  0,  0,  0,  0,  0]])"
      ]
     },
     "execution_count": 50,
     "metadata": {},
     "output_type": "execute_result"
    }
   ],
   "source": [
    "arr_2D_copy.resize(4, 6)\n",
    "arr_2D_copy"
   ]
  },
  {
   "cell_type": "markdown",
   "id": "c51985ef",
   "metadata": {},
   "source": [
    "## Методы .flatten() и .ravel()"
   ]
  },
  {
   "cell_type": "markdown",
   "id": "e021d013",
   "metadata": {},
   "source": [
    "Метод .flatten() переводит («вытягивает») массив в одно измерение и создает копию исходного массива (как метод .copy())"
   ]
  },
  {
   "cell_type": "code",
   "execution_count": 51,
   "id": "cf14eb11",
   "metadata": {},
   "outputs": [
    {
     "data": {
      "text/plain": [
       "array([ 0,  1,  2,  3,  4,  5,  6,  7,  8,  9, 10, 11])"
      ]
     },
     "execution_count": 51,
     "metadata": {},
     "output_type": "execute_result"
    }
   ],
   "source": [
    "arr_3D.flatten()"
   ]
  },
  {
   "cell_type": "markdown",
   "id": "b255c9d3",
   "metadata": {},
   "source": [
    "Метод .ravel() делает то же самое, но не создает копию исходного массива и за счет этого быстрее, чем .flatten()"
   ]
  },
  {
   "cell_type": "code",
   "execution_count": 52,
   "id": "b4ed129d",
   "metadata": {},
   "outputs": [
    {
     "data": {
      "text/plain": [
       "array([ 0,  1,  2,  3,  4,  5,  6,  7,  8,  9, 10, 11])"
      ]
     },
     "execution_count": 52,
     "metadata": {},
     "output_type": "execute_result"
    }
   ],
   "source": [
    "arr_3D.ravel()"
   ]
  },
  {
   "cell_type": "markdown",
   "id": "d9138a12",
   "metadata": {},
   "source": [
    "## np.newaxis"
   ]
  },
  {
   "cell_type": "markdown",
   "id": "b2c4d3de",
   "metadata": {},
   "source": [
    "Объект np.newaxis добавляет измерение в уже существующем массиве"
   ]
  },
  {
   "cell_type": "code",
   "execution_count": 53,
   "id": "0af390ba",
   "metadata": {},
   "outputs": [
    {
     "data": {
      "text/plain": [
       "(3,)"
      ]
     },
     "execution_count": 53,
     "metadata": {},
     "output_type": "execute_result"
    }
   ],
   "source": [
    "# создадим одномерный массив\n",
    "a = np.array([1, 2, 3])\n",
    "a.shape"
   ]
  },
  {
   "cell_type": "code",
   "execution_count": 54,
   "id": "6beaf056",
   "metadata": {},
   "outputs": [
    {
     "name": "stdout",
     "output_type": "stream",
     "text": [
      "[[1 2 3]]\n",
      "(1, 3)\n"
     ]
    }
   ],
   "source": [
    "# добавить в этот массив новое первое измерение и, таким образом, сделать существующее измерение вторым\n",
    "b = a[np.newaxis, :]\n",
    " \n",
    "print(b)\n",
    "print(b.shape)"
   ]
  },
  {
   "cell_type": "code",
   "execution_count": 55,
   "id": "0c1aa8fb",
   "metadata": {},
   "outputs": [
    {
     "name": "stdout",
     "output_type": "stream",
     "text": [
      "[[1]\n",
      " [2]\n",
      " [3]]\n",
      "(3, 1)\n"
     ]
    }
   ],
   "source": [
    "# добавить новое второе измерение, а существующее измерение оставить первым\n",
    "c = a[:, np.newaxis]\n",
    " \n",
    "print(c)\n",
    "print(c.shape)"
   ]
  },
  {
   "cell_type": "markdown",
   "id": "0ca6f19d",
   "metadata": {},
   "source": [
    "## Функция np.expand_dims()"
   ]
  },
  {
   "cell_type": "markdown",
   "id": "7669c263",
   "metadata": {},
   "source": [
    "Функция np.expand_dims() добавляет измерение, указанное в параметре axis"
   ]
  },
  {
   "cell_type": "code",
   "execution_count": 56,
   "id": "40df9c7b",
   "metadata": {},
   "outputs": [
    {
     "data": {
      "text/plain": [
       "array([[1, 2],\n",
       "       [3, 4]])"
      ]
     },
     "execution_count": 56,
     "metadata": {},
     "output_type": "execute_result"
    }
   ],
   "source": [
    "a = np.array([[1,2], [3,4]])\n",
    "a"
   ]
  },
  {
   "cell_type": "code",
   "execution_count": 58,
   "id": "b5de1331",
   "metadata": {},
   "outputs": [
    {
     "data": {
      "text/plain": [
       "array([[[1, 2],\n",
       "        [3, 4]]])"
      ]
     },
     "execution_count": 58,
     "metadata": {},
     "output_type": "execute_result"
    }
   ],
   "source": [
    "# Добавим внешнее измерение\n",
    "np.expand_dims(a, axis = 0)"
   ]
  },
  {
   "cell_type": "code",
   "execution_count": 60,
   "id": "de4cc351",
   "metadata": {},
   "outputs": [
    {
     "data": {
      "text/plain": [
       "array([[[1, 2]],\n",
       "\n",
       "       [[3, 4]]])"
      ]
     },
     "execution_count": 60,
     "metadata": {},
     "output_type": "execute_result"
    }
   ],
   "source": [
    "# добавим измерение «по середине»\n",
    "np.expand_dims(a, axis = 1)"
   ]
  },
  {
   "cell_type": "code",
   "execution_count": 61,
   "id": "a0f1b845",
   "metadata": {},
   "outputs": [
    {
     "data": {
      "text/plain": [
       "array([[[1],\n",
       "        [2]],\n",
       "\n",
       "       [[3],\n",
       "        [4]]])"
      ]
     },
     "execution_count": 61,
     "metadata": {},
     "output_type": "execute_result"
    }
   ],
   "source": [
    "# внутреннее измерение\n",
    "np.expand_dims(a, axis = 2)"
   ]
  },
  {
   "cell_type": "markdown",
   "id": "61d80e15",
   "metadata": {},
   "source": [
    "## Функция np.squeeze()"
   ]
  },
  {
   "cell_type": "code",
   "execution_count": 62,
   "id": "7c46727e",
   "metadata": {},
   "outputs": [
    {
     "data": {
      "text/plain": [
       "array([[[[0],\n",
       "         [1],\n",
       "         [2]],\n",
       "\n",
       "        [[3],\n",
       "         [4],\n",
       "         [5]],\n",
       "\n",
       "        [[6],\n",
       "         [7],\n",
       "         [8]]]])"
      ]
     },
     "execution_count": 62,
     "metadata": {},
     "output_type": "execute_result"
    }
   ],
   "source": [
    "arr_4D = np.arange(9).reshape(1, 3, 3, 1)\n",
    "arr_4D"
   ]
  },
  {
   "cell_type": "code",
   "execution_count": 63,
   "id": "82b877f8",
   "metadata": {},
   "outputs": [
    {
     "data": {
      "text/plain": [
       "array([[0, 1, 2],\n",
       "       [3, 4, 5],\n",
       "       [6, 7, 8]])"
      ]
     },
     "execution_count": 63,
     "metadata": {},
     "output_type": "execute_result"
    }
   ],
   "source": [
    "np.squeeze(arr_4D) # Новый массив имеет только два измерения"
   ]
  },
  {
   "cell_type": "code",
   "execution_count": 64,
   "id": "7e2019a3",
   "metadata": {},
   "outputs": [
    {
     "data": {
      "text/plain": [
       "(3, 3)"
      ]
     },
     "execution_count": 64,
     "metadata": {},
     "output_type": "execute_result"
    }
   ],
   "source": [
    "np.squeeze(arr_4D).shape"
   ]
  },
  {
   "cell_type": "markdown",
   "id": "fd4f8a6e",
   "metadata": {},
   "source": [
    "## Объединение массивов"
   ]
  },
  {
   "cell_type": "markdown",
   "id": "6108b465",
   "metadata": {},
   "source": [
    "## Функция np.concatenate()"
   ]
  },
  {
   "cell_type": "code",
   "execution_count": 65,
   "id": "28bb7cb5",
   "metadata": {},
   "outputs": [
    {
     "data": {
      "text/plain": [
       "array([[0, 1],\n",
       "       [2, 3]])"
      ]
     },
     "execution_count": 65,
     "metadata": {},
     "output_type": "execute_result"
    }
   ],
   "source": [
    "# есть два квардратных массива a и b размерностью 2 x 2\n",
    "a = np.arange(4).reshape(2, 2)\n",
    "a"
   ]
  },
  {
   "cell_type": "code",
   "execution_count": 66,
   "id": "19f08166",
   "metadata": {},
   "outputs": [
    {
     "data": {
      "text/plain": [
       "array([[4, 5],\n",
       "       [6, 7]])"
      ]
     },
     "execution_count": 66,
     "metadata": {},
     "output_type": "execute_result"
    }
   ],
   "source": [
    "b = np.arange(4, 8).reshape(2, 2)\n",
    "b"
   ]
  },
  {
   "cell_type": "code",
   "execution_count": 67,
   "id": "dde6976d",
   "metadata": {},
   "outputs": [
    {
     "data": {
      "text/plain": [
       "array([[0, 1],\n",
       "       [2, 3],\n",
       "       [4, 5],\n",
       "       [6, 7]])"
      ]
     },
     "execution_count": 67,
     "metadata": {},
     "output_type": "execute_result"
    }
   ],
   "source": [
    "# Объединим массивы вдоль оси 0 без добавления нового измерения\n",
    "np.concatenate((a, b), axis = 0)"
   ]
  },
  {
   "cell_type": "code",
   "execution_count": 68,
   "id": "f7de0a2f",
   "metadata": {},
   "outputs": [
    {
     "data": {
      "text/plain": [
       "array([[0, 1, 4, 5],\n",
       "       [2, 3, 6, 7]])"
      ]
     },
     "execution_count": 68,
     "metadata": {},
     "output_type": "execute_result"
    }
   ],
   "source": [
    "np.concatenate((a, b), axis = 1)"
   ]
  },
  {
   "cell_type": "markdown",
   "id": "f2af8660",
   "metadata": {},
   "source": [
    "## Функция np.stack()"
   ]
  },
  {
   "cell_type": "markdown",
   "id": "d7354bf6",
   "metadata": {},
   "source": [
    "Отличие функции np.stack() от np.concatenate() в том, что при объединении массивов мы добавляем новое измерение (новую ось)"
   ]
  },
  {
   "cell_type": "code",
   "execution_count": 69,
   "id": "a4256a72",
   "metadata": {},
   "outputs": [
    {
     "data": {
      "text/plain": [
       "array([[[0, 1],\n",
       "        [2, 3]],\n",
       "\n",
       "       [[4, 5],\n",
       "        [6, 7]]])"
      ]
     },
     "execution_count": 69,
     "metadata": {},
     "output_type": "execute_result"
    }
   ],
   "source": [
    "# при axis = 0 мы просто добавляем внешнее измерение\n",
    "np.stack((a, b), axis = 0)"
   ]
  },
  {
   "cell_type": "code",
   "execution_count": 70,
   "id": "1e22b68b",
   "metadata": {},
   "outputs": [
    {
     "data": {
      "text/plain": [
       "array([[[0, 1],\n",
       "        [4, 5]],\n",
       "\n",
       "       [[2, 3],\n",
       "        [6, 7]]])"
      ]
     },
     "execution_count": 70,
     "metadata": {},
     "output_type": "execute_result"
    }
   ],
   "source": [
    "# при axis = 1 мы объединяем первые и вторые строки двух массивов\n",
    "np.stack((a, b), axis = 1)"
   ]
  },
  {
   "cell_type": "code",
   "execution_count": 71,
   "id": "1542a261",
   "metadata": {},
   "outputs": [
    {
     "data": {
      "text/plain": [
       "array([[[0, 4],\n",
       "        [1, 5]],\n",
       "\n",
       "       [[2, 6],\n",
       "        [3, 7]]])"
      ]
     },
     "execution_count": 71,
     "metadata": {},
     "output_type": "execute_result"
    }
   ],
   "source": [
    "# при axis = 2 объединяются элементы с одинаковыми индексами\n",
    "np.stack((a, b), axis = 2)"
   ]
  },
  {
   "cell_type": "markdown",
   "id": "4f99f0ff",
   "metadata": {},
   "source": [
    "## Фильтр (маска) массива"
   ]
  },
  {
   "cell_type": "markdown",
   "id": "538f3bab",
   "metadata": {},
   "source": [
    "Задача фильтрации массива (или как еще говорят создания маски массива) встречается довольно часто. К примеру, предположим, что мы собрали показания прибора, однако из-за ошибки датчика часть из них оказалась некорректной, и для последующего анализа эти значения нужно удалить."
   ]
  },
  {
   "cell_type": "markdown",
   "id": "6898b34e",
   "metadata": {},
   "source": [
    "## Логическая маска (Boolean mask)"
   ]
  },
  {
   "cell_type": "code",
   "execution_count": 72,
   "id": "fa478723",
   "metadata": {},
   "outputs": [],
   "source": [
    "a = np.array([5, 7, -3, 4, 2, -4]) # хотим удалить из него отрицательные значения"
   ]
  },
  {
   "cell_type": "markdown",
   "id": "0ecf564f",
   "metadata": {},
   "source": [
    "Для того чтобы создать фильтр массива достаточно указать критерий отбора. На выходе мы получим массив из логических значений True и False, в котором нежелательные значения будут помечены как False"
   ]
  },
  {
   "cell_type": "code",
   "execution_count": 73,
   "id": "7d115d96",
   "metadata": {},
   "outputs": [
    {
     "data": {
      "text/plain": [
       "array([ True,  True, False,  True,  True, False])"
      ]
     },
     "execution_count": 73,
     "metadata": {},
     "output_type": "execute_result"
    }
   ],
   "source": [
    "a > 0"
   ]
  },
  {
   "cell_type": "code",
   "execution_count": 74,
   "id": "f4d81020",
   "metadata": {},
   "outputs": [
    {
     "data": {
      "text/plain": [
       "array([5, 7, 4, 2])"
      ]
     },
     "execution_count": 74,
     "metadata": {},
     "output_type": "execute_result"
    }
   ],
   "source": [
    "# Применим маску к исходному массиву\n",
    "# останутся только те значения, которые в маске помечены как True\n",
    "a[a > 0]"
   ]
  },
  {
   "cell_type": "code",
   "execution_count": 75,
   "id": "314d7eee",
   "metadata": {},
   "outputs": [
    {
     "data": {
      "text/plain": [
       "array([5, 7, 0, 4, 2, 0])"
      ]
     },
     "execution_count": 75,
     "metadata": {},
     "output_type": "execute_result"
    }
   ],
   "source": [
    "a[a < 0] = 0 # oтфильтрованные значения можно заполнить, например, нулями\n",
    "a"
   ]
  },
  {
   "cell_type": "markdown",
   "id": "0d8234b9",
   "metadata": {},
   "source": [
    "## Masked array"
   ]
  },
  {
   "cell_type": "markdown",
   "id": "bb19dc27",
   "metadata": {},
   "source": [
    "Альтернативный способ фильтрации массива Numpy предполагает использование модуля ma (masked array)"
   ]
  },
  {
   "cell_type": "code",
   "execution_count": 76,
   "id": "f44939c5",
   "metadata": {},
   "outputs": [],
   "source": [
    "# импортируем модуль ma\n",
    "import numpy.ma as ma\n",
    " \n",
    "# вновь воспользуемся массивом с отрицательными числами\n",
    "a = np.array([5, 7, -3, 4, 2, -4])"
   ]
  },
  {
   "cell_type": "markdown",
   "id": "f545dc50",
   "metadata": {},
   "source": [
    "В отличие от описанного выше логического фильтра, в masked array опускаются элементы, помеченные как 1 или True"
   ]
  },
  {
   "cell_type": "code",
   "execution_count": 77,
   "id": "b51e2a7e",
   "metadata": {},
   "outputs": [
    {
     "data": {
      "text/plain": [
       "masked_array(data=[5, 7, --, 4, 2, --],\n",
       "             mask=[False, False,  True, False, False,  True],\n",
       "       fill_value=999999)"
      ]
     },
     "execution_count": 77,
     "metadata": {},
     "output_type": "execute_result"
    }
   ],
   "source": [
    "# функции masked_array мы передаем сам массив и его маску с 0 или 1\n",
    "ma.masked_array(a, mask = [0, 0, 1, 0, 0, 1])"
   ]
  },
  {
   "cell_type": "code",
   "execution_count": 78,
   "id": "d9f3b847",
   "metadata": {},
   "outputs": [
    {
     "data": {
      "text/plain": [
       "masked_array(data=[5, 7, --, 4, 2, --],\n",
       "             mask=[False, False,  True, False, False,  True],\n",
       "       fill_value=999999)"
      ]
     },
     "execution_count": 78,
     "metadata": {},
     "output_type": "execute_result"
    }
   ],
   "source": [
    "# можно также передать значения False или True\n",
    "ma.masked_array(a, mask = [False, False, True, False, False, True])"
   ]
  },
  {
   "cell_type": "markdown",
   "id": "8f5e0e12",
   "metadata": {},
   "source": [
    "Кроме того, для некоторых логических условий есть отдельные функции. Например, мы можем опустить все элементы меньше определенного значения"
   ]
  },
  {
   "cell_type": "code",
   "execution_count": 79,
   "id": "1987f9bb",
   "metadata": {},
   "outputs": [
    {
     "data": {
      "text/plain": [
       "masked_array(data=[5, 7, --, 4, 2, --],\n",
       "             mask=[False, False,  True, False, False,  True],\n",
       "       fill_value=999999)"
      ]
     },
     "execution_count": 79,
     "metadata": {},
     "output_type": "execute_result"
    }
   ],
   "source": [
    "# в данном случае меньше 0\n",
    "ma.masked_less(a, 0)"
   ]
  },
  {
   "cell_type": "markdown",
   "id": "c5795c3e",
   "metadata": {},
   "source": [
    "Рассмотрим еще одну возможность модуля ma. Возьмем массив, в котором есть пропущенные значения (NaN, Not a Number) и значение бесконечности (inf, infinity)"
   ]
  },
  {
   "cell_type": "code",
   "execution_count": 80,
   "id": "200ebd4e",
   "metadata": {},
   "outputs": [],
   "source": [
    "b = np.array([5, 7, np.nan, 4, 2, np.inf])"
   ]
  },
  {
   "cell_type": "code",
   "execution_count": 81,
   "id": "822830ec",
   "metadata": {},
   "outputs": [
    {
     "data": {
      "text/plain": [
       "nan"
      ]
     },
     "execution_count": 81,
     "metadata": {},
     "output_type": "execute_result"
    }
   ],
   "source": [
    "b.sum()"
   ]
  },
  {
   "cell_type": "markdown",
   "id": "3a4ecac0",
   "metadata": {},
   "source": [
    "Для решения этой проблемы мы можем применить функцию masked_invalid(). Она автоматически отфильтровывает пропущенные значения и значения бесконечности."
   ]
  },
  {
   "cell_type": "code",
   "execution_count": 82,
   "id": "d4bfdb6b",
   "metadata": {},
   "outputs": [
    {
     "data": {
      "text/plain": [
       "masked_array(data=[5.0, 7.0, --, 4.0, 2.0, --],\n",
       "             mask=[False, False,  True, False, False,  True],\n",
       "       fill_value=1e+20)"
      ]
     },
     "execution_count": 82,
     "metadata": {},
     "output_type": "execute_result"
    }
   ],
   "source": [
    "b_masked = ma.masked_invalid(b)\n",
    "b_masked"
   ]
  },
  {
   "cell_type": "code",
   "execution_count": 83,
   "id": "103dac0f",
   "metadata": {},
   "outputs": [
    {
     "data": {
      "text/plain": [
       "18.0"
      ]
     },
     "execution_count": 83,
     "metadata": {},
     "output_type": "execute_result"
    }
   ],
   "source": [
    "b_masked.sum()"
   ]
  },
  {
   "cell_type": "code",
   "execution_count": 84,
   "id": "e9b1fce2",
   "metadata": {},
   "outputs": [
    {
     "data": {
      "text/plain": [
       "array([5. , 7. , 4.5, 4. , 2. , 4.5])"
      ]
     },
     "execution_count": 84,
     "metadata": {},
     "output_type": "execute_result"
    }
   ],
   "source": [
    "# с помощью метода .filled() мы можем заполнить образовавшиеся пропуски\n",
    "# использование среднего значения часто является более предпочтительным\n",
    "# способом заполнения пропусков\n",
    "b_masked.filled(b_masked.mean())"
   ]
  },
  {
   "cell_type": "code",
   "execution_count": null,
   "id": "7df143f6",
   "metadata": {},
   "outputs": [],
   "source": []
  }
 ],
 "metadata": {
  "kernelspec": {
   "display_name": "Python 3 (ipykernel)",
   "language": "python",
   "name": "python3"
  },
  "language_info": {
   "codemirror_mode": {
    "name": "ipython",
    "version": 3
   },
   "file_extension": ".py",
   "mimetype": "text/x-python",
   "name": "python",
   "nbconvert_exporter": "python",
   "pygments_lexer": "ipython3",
   "version": "3.9.13"
  }
 },
 "nbformat": 4,
 "nbformat_minor": 5
}
