{
 "cells": [
  {
   "cell_type": "markdown",
   "id": "07ae3b29",
   "metadata": {},
   "source": [
    "# Задания"
   ]
  },
  {
   "cell_type": "markdown",
   "id": "ce3639e3",
   "metadata": {},
   "source": [
    "Создайте двумерный массив 2 x 8 с помощью np.arange() и np.reshape(). Выведите основные атрибуты массива."
   ]
  },
  {
   "cell_type": "code",
   "execution_count": 1,
   "id": "d1bb1c4a",
   "metadata": {},
   "outputs": [],
   "source": [
    "import numpy as np"
   ]
  },
  {
   "cell_type": "code",
   "execution_count": 5,
   "id": "70360cf8",
   "metadata": {},
   "outputs": [
    {
     "data": {
      "text/plain": [
       "array([[ 0,  1,  2,  3,  4,  5,  6,  7],\n",
       "       [ 8,  9, 10, 11, 12, 13, 14, 15]])"
      ]
     },
     "execution_count": 5,
     "metadata": {},
     "output_type": "execute_result"
    }
   ],
   "source": [
    "arr = np.arange(16).reshape(2, 8)\n",
    "arr"
   ]
  },
  {
   "cell_type": "code",
   "execution_count": 6,
   "id": "dd107b2a",
   "metadata": {},
   "outputs": [
    {
     "data": {
      "text/plain": [
       "16"
      ]
     },
     "execution_count": 6,
     "metadata": {},
     "output_type": "execute_result"
    }
   ],
   "source": [
    "arr.size"
   ]
  },
  {
   "cell_type": "code",
   "execution_count": 7,
   "id": "cf1b8c83",
   "metadata": {},
   "outputs": [
    {
     "data": {
      "text/plain": [
       "(2, 8)"
      ]
     },
     "execution_count": 7,
     "metadata": {},
     "output_type": "execute_result"
    }
   ],
   "source": [
    "arr.shape"
   ]
  },
  {
   "cell_type": "markdown",
   "id": "73fa5d9c",
   "metadata": {},
   "source": [
    "Выведите последний элемент первой строки, а затем третий по счету столбец."
   ]
  },
  {
   "cell_type": "code",
   "execution_count": 8,
   "id": "1dc95fbe",
   "metadata": {},
   "outputs": [
    {
     "data": {
      "text/plain": [
       "7"
      ]
     },
     "execution_count": 8,
     "metadata": {},
     "output_type": "execute_result"
    }
   ],
   "source": [
    "arr[0][-1]"
   ]
  },
  {
   "cell_type": "code",
   "execution_count": 10,
   "id": "874d1d33",
   "metadata": {},
   "outputs": [
    {
     "data": {
      "text/plain": [
       "array([ 2, 10])"
      ]
     },
     "execution_count": 10,
     "metadata": {},
     "output_type": "execute_result"
    }
   ],
   "source": [
    "arr[:,2]"
   ]
  },
  {
   "cell_type": "markdown",
   "id": "e8c6e787",
   "metadata": {},
   "source": [
    "Найдите средние значения вдоль последней оси массива.\n",
    "\n",
    "Подсказка: используйте метод .mean()"
   ]
  },
  {
   "cell_type": "code",
   "execution_count": 11,
   "id": "3a310ef7",
   "metadata": {},
   "outputs": [
    {
     "data": {
      "text/plain": [
       "11.5"
      ]
     },
     "execution_count": 11,
     "metadata": {},
     "output_type": "execute_result"
    }
   ],
   "source": [
    "arr[1].mean()"
   ]
  },
  {
   "cell_type": "markdown",
   "id": "bed26511",
   "metadata": {},
   "source": [
    " Замените первые два элемента второй строки и весь последний столбец на значение 3."
   ]
  },
  {
   "cell_type": "code",
   "execution_count": 29,
   "id": "f696d0d6",
   "metadata": {},
   "outputs": [
    {
     "data": {
      "text/plain": [
       "array([[ 0,  1,  2,  3,  4,  5,  6,  7],\n",
       "       [ 8,  9, 10, 11, 12, 13, 14, 15]])"
      ]
     },
     "execution_count": 29,
     "metadata": {},
     "output_type": "execute_result"
    }
   ],
   "source": [
    "arr2 = np.arange(16).reshape(2, 8)\n",
    "arr2"
   ]
  },
  {
   "cell_type": "code",
   "execution_count": 32,
   "id": "749413b4",
   "metadata": {},
   "outputs": [],
   "source": [
    "arr2[1,:2] = 3"
   ]
  },
  {
   "cell_type": "code",
   "execution_count": 33,
   "id": "7095b4e8",
   "metadata": {},
   "outputs": [
    {
     "data": {
      "text/plain": [
       "array([[ 0,  1,  2,  3,  4,  5,  6,  7],\n",
       "       [ 3,  3, 10, 11, 12, 13, 14, 15]])"
      ]
     },
     "execution_count": 33,
     "metadata": {},
     "output_type": "execute_result"
    }
   ],
   "source": [
    "arr2"
   ]
  },
  {
   "cell_type": "code",
   "execution_count": 35,
   "id": "a2bd8962",
   "metadata": {},
   "outputs": [],
   "source": [
    "arr2[:,-1] = 3"
   ]
  },
  {
   "cell_type": "code",
   "execution_count": 36,
   "id": "7fc9f0ad",
   "metadata": {},
   "outputs": [
    {
     "data": {
      "text/plain": [
       "array([[ 0,  1,  2,  3,  4,  5,  6,  3],\n",
       "       [ 3,  3, 10, 11, 12, 13, 14,  3]])"
      ]
     },
     "execution_count": 36,
     "metadata": {},
     "output_type": "execute_result"
    }
   ],
   "source": [
    "arr2"
   ]
  },
  {
   "cell_type": "markdown",
   "id": "55101582",
   "metadata": {},
   "source": [
    "Отсортируйте первую строку массива от большего к меньшему значению."
   ]
  },
  {
   "cell_type": "code",
   "execution_count": 39,
   "id": "52049735",
   "metadata": {},
   "outputs": [
    {
     "data": {
      "text/plain": [
       "array([[ 0,  1,  2,  3,  3,  4,  5,  6],\n",
       "       [ 3,  3,  3, 10, 11, 12, 13, 14]])"
      ]
     },
     "execution_count": 39,
     "metadata": {},
     "output_type": "execute_result"
    }
   ],
   "source": [
    "np.sort(arr2)"
   ]
  },
  {
   "cell_type": "code",
   "execution_count": 54,
   "id": "8e41f8bb",
   "metadata": {},
   "outputs": [
    {
     "data": {
      "text/plain": [
       "array([[ 0,  1,  2,  3,  3,  4,  5,  6],\n",
       "       [ 3,  3,  3, 10, 11, 12, 13, 14]])"
      ]
     },
     "execution_count": 54,
     "metadata": {},
     "output_type": "execute_result"
    }
   ],
   "source": [
    "arr2[0].sort()\n",
    "arr2"
   ]
  },
  {
   "cell_type": "code",
   "execution_count": 55,
   "id": "71ddee8d",
   "metadata": {},
   "outputs": [
    {
     "data": {
      "text/plain": [
       "array([0, 1, 2, 3, 3, 4, 5, 6])"
      ]
     },
     "execution_count": 55,
     "metadata": {},
     "output_type": "execute_result"
    }
   ],
   "source": [
    "ar = arr2[0]\n",
    "ar"
   ]
  },
  {
   "cell_type": "code",
   "execution_count": 56,
   "id": "a2b10a3c",
   "metadata": {},
   "outputs": [],
   "source": [
    "ar[::-1].sort()"
   ]
  },
  {
   "cell_type": "code",
   "execution_count": 57,
   "id": "a6ee5c93",
   "metadata": {},
   "outputs": [
    {
     "data": {
      "text/plain": [
       "array([6, 5, 4, 3, 3, 2, 1, 0])"
      ]
     },
     "execution_count": 57,
     "metadata": {},
     "output_type": "execute_result"
    }
   ],
   "source": [
    "ar"
   ]
  },
  {
   "cell_type": "markdown",
   "id": "8cdf3fb7",
   "metadata": {},
   "source": [
    "Преобразуйте массив в квадратную матрицу 4 x 4."
   ]
  },
  {
   "cell_type": "code",
   "execution_count": 69,
   "id": "e195a41d",
   "metadata": {},
   "outputs": [
    {
     "data": {
      "text/plain": [
       "array([ 0,  1,  2,  3,  4,  5,  6,  7,  8,  9, 10, 11, 12, 13, 14, 15])"
      ]
     },
     "execution_count": 69,
     "metadata": {},
     "output_type": "execute_result"
    }
   ],
   "source": [
    "arr4 = np.array([0, 1, 2, 3, 4, 5, 6, 7, 8, 9, 10, 11, 12, 13, 14, 15])\n",
    "arr4"
   ]
  },
  {
   "cell_type": "code",
   "execution_count": 72,
   "id": "23fa5a91",
   "metadata": {},
   "outputs": [
    {
     "data": {
      "text/plain": [
       "array([[ 0,  1,  2,  3],\n",
       "       [ 4,  5,  6,  7],\n",
       "       [ 8,  9, 10, 11],\n",
       "       [12, 13, 14, 15]])"
      ]
     },
     "execution_count": 72,
     "metadata": {},
     "output_type": "execute_result"
    }
   ],
   "source": [
    "arr_2D = arr4.reshape(4, 4)\n",
    "arr_2D"
   ]
  },
  {
   "cell_type": "markdown",
   "id": "44c6508c",
   "metadata": {},
   "source": [
    "Используйте Boolean mask или masked array и опустите значения, которые больше шести."
   ]
  },
  {
   "cell_type": "code",
   "execution_count": 76,
   "id": "e12d3717",
   "metadata": {},
   "outputs": [
    {
     "data": {
      "text/plain": [
       "masked_array(\n",
       "  data=[[--, 1],\n",
       "        [2, 3]],\n",
       "  mask=[[ True, False],\n",
       "        [False, False]],\n",
       "  fill_value=999999)"
      ]
     },
     "execution_count": 76,
     "metadata": {},
     "output_type": "execute_result"
    }
   ],
   "source": [
    "import numpy.ma as ma\n",
    "# подсказка: маска двумерного массива - это тоже массив 2D\n",
    "c = np.array([[0, 1], [2, 3]])\n",
    "\n",
    "# оставим только те значения, которые больше нуля\n",
    "ma.masked_array(c, mask = [[1, 0], [0, 0]])"
   ]
  },
  {
   "cell_type": "code",
   "execution_count": 78,
   "id": "0713a9bc",
   "metadata": {},
   "outputs": [
    {
     "data": {
      "text/plain": [
       "masked_array(data=[--, 5, --, 1, 3, --, --, 2, 4],\n",
       "             mask=[ True, False,  True, False, False,  True,  True, False,\n",
       "                   False],\n",
       "       fill_value=999999)"
      ]
     },
     "execution_count": 78,
     "metadata": {},
     "output_type": "execute_result"
    }
   ],
   "source": [
    "w = np.array([10, 5, 7, 1, 3, 9, 12, 2, 4])\n",
    "ma.masked_array(w, mask = [True, False, True, False, False, True, True, False, False])"
   ]
  },
  {
   "cell_type": "code",
   "execution_count": null,
   "id": "66b1ca64",
   "metadata": {},
   "outputs": [],
   "source": []
  }
 ],
 "metadata": {
  "kernelspec": {
   "display_name": "Python 3 (ipykernel)",
   "language": "python",
   "name": "python3"
  },
  "language_info": {
   "codemirror_mode": {
    "name": "ipython",
    "version": 3
   },
   "file_extension": ".py",
   "mimetype": "text/x-python",
   "name": "python",
   "nbconvert_exporter": "python",
   "pygments_lexer": "ipython3",
   "version": "3.9.13"
  }
 },
 "nbformat": 4,
 "nbformat_minor": 5
}
