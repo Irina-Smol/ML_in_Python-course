{
 "cells": [
  {
   "cell_type": "markdown",
   "id": "a7b6ffed",
   "metadata": {},
   "source": [
    "# Оси массива"
   ]
  },
  {
   "cell_type": "markdown",
   "id": "c7d089b5",
   "metadata": {},
   "source": [
    "## Массив 2D"
   ]
  },
  {
   "cell_type": "code",
   "execution_count": 1,
   "id": "47fc0a90",
   "metadata": {},
   "outputs": [],
   "source": [
    "import numpy as np"
   ]
  },
  {
   "cell_type": "code",
   "execution_count": 2,
   "id": "09970da9",
   "metadata": {},
   "outputs": [
    {
     "data": {
      "text/plain": [
       "array([[1, 2],\n",
       "       [3, 4]])"
      ]
     },
     "execution_count": 2,
     "metadata": {},
     "output_type": "execute_result"
    }
   ],
   "source": [
    "arr_2D = np.array([[1, 2], [3, 4]])\n",
    "arr_2D"
   ]
  },
  {
   "cell_type": "code",
   "execution_count": 3,
   "id": "b81a6fad",
   "metadata": {},
   "outputs": [
    {
     "data": {
      "text/plain": [
       "array([4, 6])"
      ]
     },
     "execution_count": 3,
     "metadata": {},
     "output_type": "execute_result"
    }
   ],
   "source": [
    "np.sum(arr_2D, axis = 0) # сумму по столбцам (вдоль оси 0)"
   ]
  },
  {
   "cell_type": "code",
   "execution_count": 4,
   "id": "851f5f49",
   "metadata": {},
   "outputs": [
    {
     "data": {
      "text/plain": [
       "array([3, 7])"
      ]
     },
     "execution_count": 4,
     "metadata": {},
     "output_type": "execute_result"
    }
   ],
   "source": [
    "np.sum(arr_2D, axis = 1) # сумму по строкам (вдоль оси 1)"
   ]
  },
  {
   "cell_type": "code",
   "execution_count": 5,
   "id": "ae009f5c",
   "metadata": {},
   "outputs": [
    {
     "data": {
      "text/plain": [
       "10"
      ]
     },
     "execution_count": 5,
     "metadata": {},
     "output_type": "execute_result"
    }
   ],
   "source": [
    "# Сложение вдоль обеих осей (axis = (0, 1))\n",
    "np.sum(arr_2D, axis = (0, 1)) # 4 + 6"
   ]
  },
  {
   "cell_type": "code",
   "execution_count": 6,
   "id": "dabac644",
   "metadata": {},
   "outputs": [
    {
     "data": {
      "text/plain": [
       "10"
      ]
     },
     "execution_count": 6,
     "metadata": {},
     "output_type": "execute_result"
    }
   ],
   "source": [
    "np.sum(arr_2D) # по умолчанию axis = None"
   ]
  },
  {
   "cell_type": "markdown",
   "id": "a3ea6a64",
   "metadata": {},
   "source": [
    "## Отрицательные значения в параметре axis"
   ]
  },
  {
   "cell_type": "code",
   "execution_count": 7,
   "id": "18d79a6c",
   "metadata": {},
   "outputs": [
    {
     "data": {
      "text/plain": [
       "array([3, 7])"
      ]
     },
     "execution_count": 7,
     "metadata": {},
     "output_type": "execute_result"
    }
   ],
   "source": [
    "np.sum(arr_2D, axis = -1) # соответствует последней по счету оси"
   ]
  },
  {
   "cell_type": "code",
   "execution_count": 8,
   "id": "28fb135c",
   "metadata": {},
   "outputs": [
    {
     "data": {
      "text/plain": [
       "array([4, 6])"
      ]
     },
     "execution_count": 8,
     "metadata": {},
     "output_type": "execute_result"
    }
   ],
   "source": [
    "np.sum(arr_2D, axis = -2) # Сложение вдоль оси 0"
   ]
  },
  {
   "cell_type": "markdown",
   "id": "5648e315",
   "metadata": {},
   "source": [
    "## Массив 3D"
   ]
  },
  {
   "cell_type": "code",
   "execution_count": 10,
   "id": "5be564f3",
   "metadata": {},
   "outputs": [
    {
     "data": {
      "text/plain": [
       "array([[[ 0,  1,  2],\n",
       "        [ 3,  4,  5]],\n",
       "\n",
       "       [[ 6,  7,  8],\n",
       "        [ 9, 10, 11]]])"
      ]
     },
     "execution_count": 10,
     "metadata": {},
     "output_type": "execute_result"
    }
   ],
   "source": [
    "arr_3D = np.arange(12).reshape(2, 2, 3)\n",
    "arr_3D"
   ]
  },
  {
   "cell_type": "code",
   "execution_count": 11,
   "id": "52c8f0e6",
   "metadata": {},
   "outputs": [
    {
     "data": {
      "text/plain": [
       "array([[ 6,  8, 10],\n",
       "       [12, 14, 16]])"
      ]
     },
     "execution_count": 11,
     "metadata": {},
     "output_type": "execute_result"
    }
   ],
   "source": [
    "np.sum(arr_3D, axis = 0)"
   ]
  },
  {
   "cell_type": "markdown",
   "id": "849b25e0",
   "metadata": {},
   "source": [
    "Если использовать индексы массива, то поэлементное сложение вдоль оси 0 можно реализовать следующим образом."
   ]
  },
  {
   "cell_type": "code",
   "execution_count": 12,
   "id": "b3f57294",
   "metadata": {},
   "outputs": [
    {
     "data": {
      "text/plain": [
       "array([[0, 1, 2],\n",
       "       [3, 4, 5]])"
      ]
     },
     "execution_count": 12,
     "metadata": {},
     "output_type": "execute_result"
    }
   ],
   "source": [
    "# возьмем первую матрицу\n",
    "arr_3D[0]"
   ]
  },
  {
   "cell_type": "code",
   "execution_count": 13,
   "id": "7e54c7e7",
   "metadata": {},
   "outputs": [
    {
     "data": {
      "text/plain": [
       "array([[ 6,  7,  8],\n",
       "       [ 9, 10, 11]])"
      ]
     },
     "execution_count": 13,
     "metadata": {},
     "output_type": "execute_result"
    }
   ],
   "source": [
    "# возьмем вторую матрицу\n",
    "arr_3D[1]"
   ]
  },
  {
   "cell_type": "code",
   "execution_count": 14,
   "id": "b6073ebd",
   "metadata": {},
   "outputs": [
    {
     "data": {
      "text/plain": [
       "array([[ 6,  8, 10],\n",
       "       [12, 14, 16]])"
      ]
     },
     "execution_count": 14,
     "metadata": {},
     "output_type": "execute_result"
    }
   ],
   "source": [
    "# и поэлементно сложим их\n",
    "arr_3D[0] + arr_3D[1]"
   ]
  },
  {
   "cell_type": "markdown",
   "id": "a94de130",
   "metadata": {},
   "source": [
    "Эту же задачу можно решить с помощью цикла for. Вначале нужно создать нулевую матрицу, размерность которой будет соответствовать желаемому результату сложения вдоль оси 0."
   ]
  },
  {
   "cell_type": "code",
   "execution_count": 15,
   "id": "067ec76d",
   "metadata": {},
   "outputs": [],
   "source": [
    "# создадим нулевую матрицу размером 2 x 3\n",
    "total = np.zeros((2, 3))"
   ]
  },
  {
   "cell_type": "markdown",
   "id": "c47f708c",
   "metadata": {},
   "source": [
    "Теперь создадим цикл for с двумя итерациями (потому что мы складываем две матрицы внутри трехмерного массива) через функцию range() с параметром 2"
   ]
  },
  {
   "cell_type": "code",
   "execution_count": 16,
   "id": "5d0fd7b9",
   "metadata": {},
   "outputs": [],
   "source": [
    "for i in range(2):\n",
    "  total += arr_3D[i]"
   ]
  },
  {
   "cell_type": "markdown",
   "id": "08339ad6",
   "metadata": {},
   "source": [
    "Внутри цикла мы на первой итерации (i равно 0) запишем в нулевой массив нашу первую матрицу, а на второй итерации (i равно 1) поэлементно прибавим вторую. Переменная i в данном случае стала индексом для массива arr_3D"
   ]
  },
  {
   "cell_type": "code",
   "execution_count": 17,
   "id": "08ef91ea",
   "metadata": {},
   "outputs": [
    {
     "data": {
      "text/plain": [
       "array([[ 6.,  8., 10.],\n",
       "       [12., 14., 16.]])"
      ]
     },
     "execution_count": 17,
     "metadata": {},
     "output_type": "execute_result"
    }
   ],
   "source": [
    "total"
   ]
  },
  {
   "cell_type": "code",
   "execution_count": 19,
   "id": "41ffc054",
   "metadata": {},
   "outputs": [
    {
     "data": {
      "text/plain": [
       "array([[ 3,  5,  7],\n",
       "       [15, 17, 19]])"
      ]
     },
     "execution_count": 19,
     "metadata": {},
     "output_type": "execute_result"
    }
   ],
   "source": [
    "# применим np.sum()\n",
    "np.sum(arr_3D, axis = 1) # Сложение вдоль второй оси"
   ]
  },
  {
   "cell_type": "code",
   "execution_count": 20,
   "id": "0469553d",
   "metadata": {},
   "outputs": [
    {
     "data": {
      "text/plain": [
       "array([3, 5, 7])"
      ]
     },
     "execution_count": 20,
     "metadata": {},
     "output_type": "execute_result"
    }
   ],
   "source": [
    "# сложим столбцы первой\n",
    "arr_3D[0][0] + arr_3D[0][1]"
   ]
  },
  {
   "cell_type": "code",
   "execution_count": 21,
   "id": "4b249c61",
   "metadata": {},
   "outputs": [
    {
     "data": {
      "text/plain": [
       "array([15, 17, 19])"
      ]
     },
     "execution_count": 21,
     "metadata": {},
     "output_type": "execute_result"
    }
   ],
   "source": [
    "# и второй матрицы\n",
    "arr_3D[1][0] + arr_3D[1][1]"
   ]
  },
  {
   "cell_type": "code",
   "execution_count": 22,
   "id": "240bd13e",
   "metadata": {},
   "outputs": [
    {
     "data": {
      "text/plain": [
       "array([[ 3.,  5.,  7.],\n",
       "       [15., 17., 19.]])"
      ]
     },
     "execution_count": 22,
     "metadata": {},
     "output_type": "execute_result"
    }
   ],
   "source": [
    "\n",
    "# создадим нулевую матрицу 2 x 3\n",
    "total = np.zeros((2, 3))\n",
    " \n",
    "# вначале пройдемся по матрицам\n",
    "for i in range(2):\n",
    " \n",
    "  # затем по строкам каждой матрицы\n",
    "  for j in range(2):\n",
    " \n",
    "    # и в первую строку total запишем сумму столбцов первой матрицы arr_3D,\n",
    "    # а во вторую - сумму столбцов второй матрицы\n",
    "    total[i] += arr_3D[i][j]\n",
    " \n",
    "total"
   ]
  },
  {
   "cell_type": "code",
   "execution_count": 23,
   "id": "b459d537",
   "metadata": {},
   "outputs": [
    {
     "data": {
      "text/plain": [
       "array([[ 3, 12],\n",
       "       [21, 30]])"
      ]
     },
     "execution_count": 23,
     "metadata": {},
     "output_type": "execute_result"
    }
   ],
   "source": [
    "# применим np.sum()\n",
    "np.sum(arr_3D, axis = 2) # Сложение вдоль третьей оси (axis = 2)"
   ]
  },
  {
   "cell_type": "markdown",
   "id": "ada35a19",
   "metadata": {},
   "source": [
    "Сложение вдоль оси 2 предполагает, что мы складываем строки каждой матрицы"
   ]
  },
  {
   "cell_type": "code",
   "execution_count": 24,
   "id": "1a9f578f",
   "metadata": {},
   "outputs": [
    {
     "data": {
      "text/plain": [
       "array([[ 3., 12.],\n",
       "       [21., 30.]])"
      ]
     },
     "execution_count": 24,
     "metadata": {},
     "output_type": "execute_result"
    }
   ],
   "source": [
    "# создадим нулевой массив 2 x 2 для записи результатов\n",
    "total = np.zeros((2, 2))\n",
    " \n",
    "# пройдемся по матрицам\n",
    "for i in range(2):\n",
    " \n",
    "  # по строкам матрицы\n",
    "  for j in range(2):\n",
    " \n",
    "    # и по столбцам\n",
    "    for k in arr_3D[i][j]:\n",
    " \n",
    "      # индексы i, j запишут результат сложения элементов строк k\n",
    "      # в квадратную матрицу 2 x 2\n",
    "      total[i][j] += k\n",
    " \n",
    "total"
   ]
  },
  {
   "cell_type": "markdown",
   "id": "b726aa82",
   "metadata": {},
   "source": [
    "## Сложение вдоль первой и второй осей (axis = (0, 1))"
   ]
  },
  {
   "cell_type": "code",
   "execution_count": 25,
   "id": "52c4d14c",
   "metadata": {},
   "outputs": [
    {
     "data": {
      "text/plain": [
       "array([18, 22, 26])"
      ]
     },
     "execution_count": 25,
     "metadata": {},
     "output_type": "execute_result"
    }
   ],
   "source": [
    "# применим функцию np.sum()\n",
    "np.sum(arr_3D, axis = (0, 1))"
   ]
  },
  {
   "cell_type": "code",
   "execution_count": 26,
   "id": "3e22f428",
   "metadata": {},
   "outputs": [
    {
     "data": {
      "text/plain": [
       "array([[ 6.,  8., 10.],\n",
       "       [12., 14., 16.]])"
      ]
     },
     "execution_count": 26,
     "metadata": {},
     "output_type": "execute_result"
    }
   ],
   "source": [
    "# произведем сложение по оси 0\n",
    "total_0 = np.zeros((2, 3))\n",
    " \n",
    "for i in range(2):\n",
    "  total_0 += arr_3D[i]\n",
    " \n",
    "total_0"
   ]
  },
  {
   "cell_type": "code",
   "execution_count": 27,
   "id": "e9331bdb",
   "metadata": {},
   "outputs": [
    {
     "data": {
      "text/plain": [
       "array([18., 22., 26.])"
      ]
     },
     "execution_count": 27,
     "metadata": {},
     "output_type": "execute_result"
    }
   ],
   "source": [
    "# произведем сложение по оси 1\n",
    "total_1 = np.zeros(3)\n",
    " \n",
    "for j in range(2):\n",
    "  total_1 += total_0[j]\n",
    " \n",
    "total_1"
   ]
  },
  {
   "cell_type": "markdown",
   "id": "be786e09",
   "metadata": {},
   "source": [
    "## Сложение вдоль всех трех осей (axis = (0, 1, 2))"
   ]
  },
  {
   "cell_type": "code",
   "execution_count": 28,
   "id": "c702b656",
   "metadata": {},
   "outputs": [
    {
     "data": {
      "text/plain": [
       "66"
      ]
     },
     "execution_count": 28,
     "metadata": {},
     "output_type": "execute_result"
    }
   ],
   "source": [
    "np.sum(arr_3D, axis = (0, 1, 2))"
   ]
  },
  {
   "cell_type": "code",
   "execution_count": 29,
   "id": "785ecd02",
   "metadata": {},
   "outputs": [
    {
     "data": {
      "text/plain": [
       "66"
      ]
     },
     "execution_count": 29,
     "metadata": {},
     "output_type": "execute_result"
    }
   ],
   "source": [
    "np.sum(arr_3D)"
   ]
  },
  {
   "cell_type": "code",
   "execution_count": 30,
   "id": "0c98eec2",
   "metadata": {},
   "outputs": [
    {
     "data": {
      "text/plain": [
       "66"
      ]
     },
     "execution_count": 30,
     "metadata": {},
     "output_type": "execute_result"
    }
   ],
   "source": [
    "total = 0\n",
    " \n",
    "# в трех вложенных циклах мы пройдемся по всем элементам массива\n",
    "for i in range(2):\n",
    "  for j in range(2):\n",
    "    for k in range(3):\n",
    " \n",
    "      # и запишем сумму этих элементов в переменную total\n",
    "      total += arr_3D[i][j][k]\n",
    " \n",
    "total"
   ]
  },
  {
   "cell_type": "code",
   "execution_count": null,
   "id": "c698e7a7",
   "metadata": {},
   "outputs": [],
   "source": []
  }
 ],
 "metadata": {
  "kernelspec": {
   "display_name": "Python 3 (ipykernel)",
   "language": "python",
   "name": "python3"
  },
  "language_info": {
   "codemirror_mode": {
    "name": "ipython",
    "version": 3
   },
   "file_extension": ".py",
   "mimetype": "text/x-python",
   "name": "python",
   "nbconvert_exporter": "python",
   "pygments_lexer": "ipython3",
   "version": "3.9.13"
  }
 },
 "nbformat": 4,
 "nbformat_minor": 5
}
