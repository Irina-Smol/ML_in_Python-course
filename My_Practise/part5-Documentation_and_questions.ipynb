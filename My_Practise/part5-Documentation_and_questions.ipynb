{
 "cells": [
  {
   "cell_type": "markdown",
   "id": "8f737687",
   "metadata": {},
   "source": [
    "# Документация"
   ]
  },
  {
   "cell_type": "code",
   "execution_count": 1,
   "id": "707c18e9",
   "metadata": {},
   "outputs": [],
   "source": [
    "import numpy as np"
   ]
  },
  {
   "cell_type": "markdown",
   "id": "a2d6dd87",
   "metadata": {},
   "source": [
    "Справку по функции можно вызвать с помощью знака вопроса. Документация появится в отдельном окне."
   ]
  },
  {
   "cell_type": "code",
   "execution_count": 4,
   "id": "5546d602",
   "metadata": {},
   "outputs": [],
   "source": [
    "# знак вопроса может стоять перед\n",
    "?print\n",
    "# или после вызываемой функции\n",
    "print?"
   ]
  },
  {
   "cell_type": "markdown",
   "id": "8857df98",
   "metadata": {},
   "source": [
    "можно применить функцию help(). В этом случае документация появится под вызываемой функцией."
   ]
  },
  {
   "cell_type": "code",
   "execution_count": 5,
   "id": "3332bb1f",
   "metadata": {},
   "outputs": [
    {
     "name": "stdout",
     "output_type": "stream",
     "text": [
      "Help on built-in function print in module builtins:\n",
      "\n",
      "print(...)\n",
      "    print(value, ..., sep=' ', end='\\n', file=sys.stdout, flush=False)\n",
      "    \n",
      "    Prints the values to a stream, or to sys.stdout by default.\n",
      "    Optional keyword arguments:\n",
      "    file:  a file-like object (stream); defaults to the current sys.stdout.\n",
      "    sep:   string inserted between values, default a space.\n",
      "    end:   string appended after the last value, default a newline.\n",
      "    flush: whether to forcibly flush the stream.\n",
      "\n"
     ]
    }
   ],
   "source": [
    "help(print)"
   ]
  },
  {
   "cell_type": "markdown",
   "id": "b1781f5a",
   "metadata": {},
   "source": [
    "С помощью функции np.lookfor() мы можем осуществить поиск непосредственно по документации Numpy."
   ]
  },
  {
   "cell_type": "code",
   "execution_count": 6,
   "id": "58590959",
   "metadata": {},
   "outputs": [
    {
     "name": "stdout",
     "output_type": "stream",
     "text": [
      "Search results for 'randint'\n",
      "----------------------------\n",
      "numpy.random.RandomState.randint\n",
      "    Return random integers from `low` (inclusive) to `high` (exclusive).\n",
      "numpy.chararray.item\n",
      "    a.item(*args)\n",
      "numpy.chararray.itemset\n",
      "    a.itemset(*args)\n",
      "numpy.random.tests.test_random.TestRandint.rfunc\n",
      "    Return random integers from `low` (inclusive) to `high` (exclusive).\n",
      "numpy.random.Generator.integers\n",
      "    Return random integers from `low` (inclusive) to `high` (exclusive), or\n",
      "numpy.random.RandomState.choice\n",
      "    Generates a random sample from a given 1-D array\n",
      "numpy.random.RandomState.uniform\n",
      "    Draw samples from a uniform distribution.\n",
      "numpy.random.RandomState.tomaxint\n",
      "    Return a sample of uniformly distributed random integers in the interval\n",
      "numpy.random.RandomState.random_integers\n",
      "    Random integers of type `np.int_` between `low` and `high`, inclusive.\n",
      "numpy.random.tests.test_generator_mt19937.TestIntegers.rfunc\n",
      "    Return random integers from `low` (inclusive) to `high` (exclusive), or"
     ]
    }
   ],
   "source": [
    "# поиск будет выполнен по передаваемому ключевому слову,\n",
    "# а результаты отсортированы по важности\n",
    "np.lookfor('randint')"
   ]
  },
  {
   "cell_type": "markdown",
   "id": "452bdc2e",
   "metadata": {},
   "source": [
    "## Вопросы"
   ]
  },
  {
   "cell_type": "markdown",
   "id": "81cae2f8",
   "metadata": {},
   "source": [
    "Как выяснить очередность осей массива?\n",
    "\n",
    "\n",
    "- атрибут shape на первое место ставит элементы внешнего измерения (внешних скобок), на последнее — внутренних. Внешнее измерение — это первая ось (axis = 0), внутренее — последняя (axis = −1)."
   ]
  },
  {
   "cell_type": "markdown",
   "id": "648e336f",
   "metadata": {},
   "source": [
    "Что происходит с осью (измерением), вдоль которой происходит сложение элементов массива?\n",
    "\n",
    "- это измерение исчезает (и соответственно перестает фигурировать в атрибуте shape) за счет агрегирования его элементов."
   ]
  },
  {
   "cell_type": "markdown",
   "id": "6feaf532",
   "metadata": {},
   "source": [
    "Как отсортировать массив в убывающем порядке?\n",
    "\n",
    "- применить функцию np.sort() или метод .sort() вместе с оператором среза с отрицательным шагом."
   ]
  },
  {
   "cell_type": "code",
   "execution_count": null,
   "id": "1e1a25d4",
   "metadata": {},
   "outputs": [],
   "source": []
  }
 ],
 "metadata": {
  "kernelspec": {
   "display_name": "Python 3 (ipykernel)",
   "language": "python",
   "name": "python3"
  },
  "language_info": {
   "codemirror_mode": {
    "name": "ipython",
    "version": 3
   },
   "file_extension": ".py",
   "mimetype": "text/x-python",
   "name": "python",
   "nbconvert_exporter": "python",
   "pygments_lexer": "ipython3",
   "version": "3.9.13"
  }
 },
 "nbformat": 4,
 "nbformat_minor": 5
}
