{
 "cells": [
  {
   "cell_type": "code",
   "execution_count": null,
   "id": "c6c10b06",
   "metadata": {},
   "outputs": [],
   "source": [
    "import numpy as np\n",
    "import pandas as pd"
   ]
  },
  {
   "cell_type": "markdown",
   "id": "3895bea8",
   "metadata": {},
   "source": [
    "## Как создать массив Numpy"
   ]
  },
  {
   "cell_type": "code",
   "execution_count": 5,
   "id": "2aea04fe",
   "metadata": {},
   "outputs": [
    {
     "data": {
      "text/plain": [
       "array([1, 2, 5, 8])"
      ]
     },
     "execution_count": 5,
     "metadata": {},
     "output_type": "execute_result"
    }
   ],
   "source": [
    "np.array([1, 2, 5, 8])"
   ]
  },
  {
   "cell_type": "code",
   "execution_count": 6,
   "id": "ab5c9cfc",
   "metadata": {},
   "outputs": [
    {
     "data": {
      "text/plain": [
       "array([0, 1, 2, 3, 4, 5, 6, 7, 8, 9])"
      ]
     },
     "execution_count": 6,
     "metadata": {},
     "output_type": "execute_result"
    }
   ],
   "source": [
    "np.arange(10)"
   ]
  },
  {
   "cell_type": "code",
   "execution_count": 7,
   "id": "b92900bf",
   "metadata": {},
   "outputs": [
    {
     "name": "stdout",
     "output_type": "stream",
     "text": [
      "[2 4 6 8]\n"
     ]
    }
   ],
   "source": [
    "arr = np.arange(2, 10, 2)\n",
    "print(arr)"
   ]
  },
  {
   "cell_type": "markdown",
   "id": "af6ce823",
   "metadata": {},
   "source": [
    "Отличие range() от функции np.arange() заключается в том, что первая не допускает использования типа float"
   ]
  },
  {
   "cell_type": "code",
   "execution_count": 8,
   "id": "c974b852",
   "metadata": {},
   "outputs": [
    {
     "ename": "TypeError",
     "evalue": "'float' object cannot be interpreted as an integer",
     "output_type": "error",
     "traceback": [
      "\u001b[1;31m---------------------------------------------------------------------------\u001b[0m",
      "\u001b[1;31mTypeError\u001b[0m                                 Traceback (most recent call last)",
      "\u001b[1;32m~\\AppData\\Local\\Temp\\ipykernel_2504\\60282036.py\u001b[0m in \u001b[0;36m<module>\u001b[1;34m\u001b[0m\n\u001b[1;32m----> 1\u001b[1;33m \u001b[0mlist\u001b[0m\u001b[1;33m(\u001b[0m\u001b[0mrange\u001b[0m\u001b[1;33m(\u001b[0m\u001b[1;36m2\u001b[0m\u001b[1;33m,\u001b[0m \u001b[1;36m5.5\u001b[0m\u001b[1;33m,\u001b[0m \u001b[1;36m0.5\u001b[0m\u001b[1;33m)\u001b[0m\u001b[1;33m)\u001b[0m\u001b[1;33m\u001b[0m\u001b[1;33m\u001b[0m\u001b[0m\n\u001b[0m",
      "\u001b[1;31mTypeError\u001b[0m: 'float' object cannot be interpreted as an integer"
     ]
    }
   ],
   "source": [
    "list(range(2, 5.5, 0.5)) # список с помощью функций range() и list()"
   ]
  },
  {
   "cell_type": "code",
   "execution_count": 9,
   "id": "2c7113bd",
   "metadata": {},
   "outputs": [
    {
     "data": {
      "text/plain": [
       "array([2. , 2.5, 3. , 3.5, 4. , 4.5, 5. ])"
      ]
     },
     "execution_count": 9,
     "metadata": {},
     "output_type": "execute_result"
    }
   ],
   "source": [
    "np.arange(2, 5.5, 0.5)"
   ]
  },
  {
   "cell_type": "code",
   "execution_count": 14,
   "id": "2412069e",
   "metadata": {},
   "outputs": [
    {
     "name": "stdout",
     "output_type": "stream",
     "text": [
      "<class 'numpy.ndarray'>\n",
      "float64\n"
     ]
    }
   ],
   "source": [
    "arr2 = np.array([0, 3, 5, 7, 12], float)\n",
    "print(type(arr2))\n",
    "print(arr2.dtype) # показывает тип данных отдельного элемента"
   ]
  },
  {
   "cell_type": "markdown",
   "id": "cbe41651",
   "metadata": {},
   "source": [
    "## Свойства (атрибуты) массива"
   ]
  },
  {
   "cell_type": "code",
   "execution_count": 15,
   "id": "5f62fbcc",
   "metadata": {},
   "outputs": [
    {
     "data": {
      "text/plain": [
       "1"
      ]
     },
     "execution_count": 15,
     "metadata": {},
     "output_type": "execute_result"
    }
   ],
   "source": [
    "arr2.ndim # количество измерений массива"
   ]
  },
  {
   "cell_type": "code",
   "execution_count": 20,
   "id": "4cc11241",
   "metadata": {},
   "outputs": [
    {
     "data": {
      "text/plain": [
       "array([[3, 4, 5],\n",
       "       [6, 7, 8]])"
      ]
     },
     "execution_count": 20,
     "metadata": {},
     "output_type": "execute_result"
    }
   ],
   "source": [
    "arr3 = np.array([[3, 4, 5], [6, 7, 8]])\n",
    "arr3"
   ]
  },
  {
   "cell_type": "code",
   "execution_count": 21,
   "id": "24246cb0",
   "metadata": {},
   "outputs": [
    {
     "data": {
      "text/plain": [
       "2"
      ]
     },
     "execution_count": 21,
     "metadata": {},
     "output_type": "execute_result"
    }
   ],
   "source": [
    "arr3.ndim"
   ]
  },
  {
   "cell_type": "code",
   "execution_count": 23,
   "id": "77683e25",
   "metadata": {},
   "outputs": [
    {
     "data": {
      "text/plain": [
       "(2, 3)"
      ]
     },
     "execution_count": 23,
     "metadata": {},
     "output_type": "execute_result"
    }
   ],
   "source": [
    "arr3.shape # количество элементов в каждом измерении"
   ]
  },
  {
   "cell_type": "code",
   "execution_count": 24,
   "id": "ab7c8641",
   "metadata": {},
   "outputs": [
    {
     "data": {
      "text/plain": [
       "(5,)"
      ]
     },
     "execution_count": 24,
     "metadata": {},
     "output_type": "execute_result"
    }
   ],
   "source": [
    "arr2.shape # даже когда массив одномерный, результат атрибута shape выводится в виде кортежа \n",
    "           # (на это указывают круглые скобки и запятая после цифры четыре)"
   ]
  },
  {
   "cell_type": "code",
   "execution_count": 25,
   "id": "03b2ecac",
   "metadata": {},
   "outputs": [
    {
     "data": {
      "text/plain": [
       "5"
      ]
     },
     "execution_count": 25,
     "metadata": {},
     "output_type": "execute_result"
    }
   ],
   "source": [
    "arr2.size # общее количество элементов во всех измерениях"
   ]
  },
  {
   "cell_type": "code",
   "execution_count": 26,
   "id": "f8f20018",
   "metadata": {},
   "outputs": [
    {
     "data": {
      "text/plain": [
       "6"
      ]
     },
     "execution_count": 26,
     "metadata": {},
     "output_type": "execute_result"
    }
   ],
   "source": [
    "arr3.size"
   ]
  },
  {
   "cell_type": "code",
   "execution_count": 29,
   "id": "8c3d728c",
   "metadata": {},
   "outputs": [
    {
     "data": {
      "text/plain": [
       "8"
      ]
     },
     "execution_count": 29,
     "metadata": {},
     "output_type": "execute_result"
    }
   ],
   "source": [
    "arr2.itemsize # узнать размер в байтах (один байт состоит из 8 бит) одного элемента"
   ]
  },
  {
   "cell_type": "code",
   "execution_count": 30,
   "id": "73ee0368",
   "metadata": {},
   "outputs": [
    {
     "data": {
      "text/plain": [
       "4"
      ]
     },
     "execution_count": 30,
     "metadata": {},
     "output_type": "execute_result"
    }
   ],
   "source": [
    "arr3.itemsize"
   ]
  },
  {
   "cell_type": "code",
   "execution_count": 31,
   "id": "22557402",
   "metadata": {},
   "outputs": [
    {
     "data": {
      "text/plain": [
       "40"
      ]
     },
     "execution_count": 31,
     "metadata": {},
     "output_type": "execute_result"
    }
   ],
   "source": [
    "arr2.nbytes # поместится ли массив в оперативную память компьютера"
   ]
  },
  {
   "cell_type": "code",
   "execution_count": 32,
   "id": "cb89287a",
   "metadata": {},
   "outputs": [
    {
     "data": {
      "text/plain": [
       "24"
      ]
     },
     "execution_count": 32,
     "metadata": {},
     "output_type": "execute_result"
    }
   ],
   "source": [
    "arr3.nbytes"
   ]
  },
  {
   "cell_type": "code",
   "execution_count": 33,
   "id": "95278e8e",
   "metadata": {},
   "outputs": [
    {
     "data": {
      "text/plain": [
       "40"
      ]
     },
     "execution_count": 33,
     "metadata": {},
     "output_type": "execute_result"
    }
   ],
   "source": [
    "arr2.size * arr2.itemsize # Тот же результат можно получить, умножив общее количество элементов на размер \n",
    "                          # одного элемента в байтах"
   ]
  },
  {
   "cell_type": "markdown",
   "id": "139938aa",
   "metadata": {},
   "source": [
    " ## Массив с нулевой размерностью"
   ]
  },
  {
   "cell_type": "markdown",
   "id": "bc77517c",
   "metadata": {},
   "source": [
    "Массив с нулевой размерностью — это число (скаляр) и квадратных скобок не имеет"
   ]
  },
  {
   "cell_type": "code",
   "execution_count": 34,
   "id": "831a4ca2",
   "metadata": {},
   "outputs": [
    {
     "data": {
      "text/plain": [
       "array(42)"
      ]
     },
     "execution_count": 34,
     "metadata": {},
     "output_type": "execute_result"
    }
   ],
   "source": [
    "arr_0D = np.array(42)\n",
    "arr_0D"
   ]
  },
  {
   "cell_type": "code",
   "execution_count": 35,
   "id": "6e864d1c",
   "metadata": {},
   "outputs": [
    {
     "name": "stdout",
     "output_type": "stream",
     "text": [
      "0\n",
      "()\n",
      "1\n"
     ]
    }
   ],
   "source": [
    "print(arr_0D.ndim)\n",
    "print(arr_0D.shape)\n",
    "print(arr_0D.size)"
   ]
  },
  {
   "cell_type": "markdown",
   "id": "ff814d52",
   "metadata": {},
   "source": [
    "## Одномерный массив (вектор)"
   ]
  },
  {
   "cell_type": "code",
   "execution_count": 36,
   "id": "953e7282",
   "metadata": {},
   "outputs": [
    {
     "data": {
      "text/plain": [
       "array([1, 2, 3])"
      ]
     },
     "execution_count": 36,
     "metadata": {},
     "output_type": "execute_result"
    }
   ],
   "source": [
    "arr_1D = np.array([1, 2, 3])\n",
    "arr_1D"
   ]
  },
  {
   "cell_type": "code",
   "execution_count": 37,
   "id": "ced5ec5a",
   "metadata": {},
   "outputs": [
    {
     "name": "stdout",
     "output_type": "stream",
     "text": [
      "1\n",
      "(3,)\n",
      "3\n"
     ]
    }
   ],
   "source": [
    "print(arr_1D.ndim)\n",
    "print(arr_1D.shape)\n",
    "print(arr_1D.size)"
   ]
  },
  {
   "cell_type": "markdown",
   "id": "daf2094a",
   "metadata": {},
   "source": [
    "## Двумерный массив (матрица)"
   ]
  },
  {
   "cell_type": "code",
   "execution_count": 38,
   "id": "299bbe0c",
   "metadata": {},
   "outputs": [
    {
     "data": {
      "text/plain": [
       "array([[1, 2, 3],\n",
       "       [4, 5, 6]])"
      ]
     },
     "execution_count": 38,
     "metadata": {},
     "output_type": "execute_result"
    }
   ],
   "source": [
    "# с точки зрения синтаксиса - это просто вложенные списки\n",
    "arr_2D = np.array([[1, 2, 3], [4, 5, 6]])\n",
    "arr_2D"
   ]
  },
  {
   "cell_type": "code",
   "execution_count": 39,
   "id": "315ab159",
   "metadata": {},
   "outputs": [
    {
     "name": "stdout",
     "output_type": "stream",
     "text": [
      "2\n",
      "(2, 3)\n",
      "6\n"
     ]
    }
   ],
   "source": [
    "print(arr_2D.ndim)\n",
    "print(arr_2D.shape)\n",
    "print(arr_2D.size)"
   ]
  },
  {
   "cell_type": "code",
   "execution_count": 40,
   "id": "2c1bedf4",
   "metadata": {},
   "outputs": [
    {
     "data": {
      "text/plain": [
       "array([[1],\n",
       "       [2],\n",
       "       [3]])"
      ]
     },
     "execution_count": 40,
     "metadata": {},
     "output_type": "execute_result"
    }
   ],
   "source": [
    "column = np.array([[1], [2], [3]])\n",
    "column"
   ]
  },
  {
   "cell_type": "code",
   "execution_count": 41,
   "id": "b34a52bd",
   "metadata": {},
   "outputs": [
    {
     "data": {
      "text/plain": [
       "(3, 1)"
      ]
     },
     "execution_count": 41,
     "metadata": {},
     "output_type": "execute_result"
    }
   ],
   "source": [
    "# посмотрим на размерность\n",
    "column.shape"
   ]
  },
  {
   "cell_type": "code",
   "execution_count": 42,
   "id": "648a5018",
   "metadata": {},
   "outputs": [
    {
     "data": {
      "text/plain": [
       "array([[1, 2, 3]])"
      ]
     },
     "execution_count": 42,
     "metadata": {},
     "output_type": "execute_result"
    }
   ],
   "source": [
    "row = np.array([[1, 2, 3]])\n",
    "row"
   ]
  },
  {
   "cell_type": "code",
   "execution_count": 44,
   "id": "eb9a3bdb",
   "metadata": {},
   "outputs": [
    {
     "data": {
      "text/plain": [
       "(1, 3)"
      ]
     },
     "execution_count": 44,
     "metadata": {},
     "output_type": "execute_result"
    }
   ],
   "source": [
    "# размерность будет иной\n",
    "row.shape"
   ]
  },
  {
   "cell_type": "markdown",
   "id": "ec756bfd",
   "metadata": {},
   "source": [
    "## Трехмерный массив"
   ]
  },
  {
   "cell_type": "code",
   "execution_count": 46,
   "id": "d635d748",
   "metadata": {},
   "outputs": [
    {
     "data": {
      "text/plain": [
       "array([[[ 0,  1,  2],\n",
       "        [ 3,  4,  5]],\n",
       "\n",
       "       [[ 6,  7,  8],\n",
       "        [ 9, 10, 11]]])"
      ]
     },
     "execution_count": 46,
     "metadata": {},
     "output_type": "execute_result"
    }
   ],
   "source": [
    "arr_3D = np.arange(12).reshape(2, 2, 3) # np.reshape() распределит по измерениям\n",
    "arr_3D"
   ]
  },
  {
   "cell_type": "code",
   "execution_count": 47,
   "id": "c3bca9ad",
   "metadata": {},
   "outputs": [
    {
     "name": "stdout",
     "output_type": "stream",
     "text": [
      "3\n",
      "(2, 2, 3)\n",
      "12\n"
     ]
    }
   ],
   "source": [
    "print(arr_3D.ndim)\n",
    "print(arr_3D.shape)\n",
    "print(arr_3D.size)"
   ]
  },
  {
   "cell_type": "markdown",
   "id": "8b85599f",
   "metadata": {},
   "source": [
    "в математике n-мерный массив называется тензором, а числа (скаляры), векторы и матрицы являются его частными случаями для нуля, одного и двух измерений соответственно"
   ]
  },
  {
   "cell_type": "markdown",
   "id": "47e76223",
   "metadata": {},
   "source": [
    "## Массив из нулей"
   ]
  },
  {
   "cell_type": "code",
   "execution_count": 48,
   "id": "05016d77",
   "metadata": {},
   "outputs": [
    {
     "data": {
      "text/plain": [
       "array([0., 0., 0., 0., 0.])"
      ]
     },
     "execution_count": 48,
     "metadata": {},
     "output_type": "execute_result"
    }
   ],
   "source": [
    "np.zeros(5)"
   ]
  },
  {
   "cell_type": "code",
   "execution_count": 49,
   "id": "50a6d768",
   "metadata": {},
   "outputs": [
    {
     "data": {
      "text/plain": [
       "array([[0., 0., 0.],\n",
       "       [0., 0., 0.]])"
      ]
     },
     "execution_count": 49,
     "metadata": {},
     "output_type": "execute_result"
    }
   ],
   "source": [
    "np.zeros((2, 3))"
   ]
  },
  {
   "cell_type": "markdown",
   "id": "834e5935",
   "metadata": {},
   "source": [
    "## Массив из единиц"
   ]
  },
  {
   "cell_type": "code",
   "execution_count": 50,
   "id": "1e366b6b",
   "metadata": {},
   "outputs": [
    {
     "data": {
      "text/plain": [
       "array([[[1., 1., 1.],\n",
       "        [1., 1., 1.]],\n",
       "\n",
       "       [[1., 1., 1.],\n",
       "        [1., 1., 1.]]])"
      ]
     },
     "execution_count": 50,
     "metadata": {},
     "output_type": "execute_result"
    }
   ],
   "source": [
    "np.ones((2, 2, 3))"
   ]
  },
  {
   "cell_type": "markdown",
   "id": "dc34f6be",
   "metadata": {},
   "source": [
    "## Массив, заполненный заданным значением"
   ]
  },
  {
   "cell_type": "code",
   "execution_count": 51,
   "id": "4ee00a6f",
   "metadata": {},
   "outputs": [
    {
     "data": {
      "text/plain": [
       "array([[4, 4, 4],\n",
       "       [4, 4, 4]])"
      ]
     },
     "execution_count": 51,
     "metadata": {},
     "output_type": "execute_result"
    }
   ],
   "source": [
    "np.full((2, 3), 4)"
   ]
  },
  {
   "cell_type": "markdown",
   "id": "c41c573f",
   "metadata": {},
   "source": [
    "## Пустой массив Numpy"
   ]
  },
  {
   "cell_type": "code",
   "execution_count": 52,
   "id": "19ae538a",
   "metadata": {},
   "outputs": [
    {
     "data": {
      "text/plain": [
       "array([[0., 0.],\n",
       "       [0., 0.],\n",
       "       [0., 0.]])"
      ]
     },
     "execution_count": 52,
     "metadata": {},
     "output_type": "execute_result"
    }
   ],
   "source": [
    "np.empty((3, 2))"
   ]
  },
  {
   "cell_type": "markdown",
   "id": "05c3f233",
   "metadata": {},
   "source": [
    "любой массив Numpy можно преобразовать в описанные выше массивы с помощью функций np.zeros_like(), np.ones_like(), np.full_like() и np.empty_like()"
   ]
  },
  {
   "cell_type": "code",
   "execution_count": 53,
   "id": "f73364ad",
   "metadata": {},
   "outputs": [
    {
     "data": {
      "text/plain": [
       "array([[1, 2, 3],\n",
       "       [4, 5, 6]])"
      ]
     },
     "execution_count": 53,
     "metadata": {},
     "output_type": "execute_result"
    }
   ],
   "source": [
    "a = np.arange(1, 7).reshape(2, 3)\n",
    "a"
   ]
  },
  {
   "cell_type": "code",
   "execution_count": 54,
   "id": "358f8b68",
   "metadata": {},
   "outputs": [
    {
     "data": {
      "text/plain": [
       "array([[0, 0, 0],\n",
       "       [0, 0, 0]])"
      ]
     },
     "execution_count": 54,
     "metadata": {},
     "output_type": "execute_result"
    }
   ],
   "source": [
    "np.zeros_like(a)"
   ]
  },
  {
   "cell_type": "code",
   "execution_count": 56,
   "id": "1b5f462f",
   "metadata": {},
   "outputs": [
    {
     "data": {
      "text/plain": [
       "array([[2, 2, 2],\n",
       "       [2, 2, 2]])"
      ]
     },
     "execution_count": 56,
     "metadata": {},
     "output_type": "execute_result"
    }
   ],
   "source": [
    "np.full_like(a, 2)"
   ]
  },
  {
   "cell_type": "markdown",
   "id": "fa8ea35b",
   "metadata": {},
   "source": [
    "## Функция np.linspace()"
   ]
  },
  {
   "cell_type": "code",
   "execution_count": 57,
   "id": "4012be73",
   "metadata": {},
   "outputs": [
    {
     "data": {
      "text/plain": [
       "array([0. , 0.1, 0.2, 0.3, 0.4, 0.5, 0.6, 0.7, 0.8, 0.9])"
      ]
     },
     "execution_count": 57,
     "metadata": {},
     "output_type": "execute_result"
    }
   ],
   "source": [
    "# создадим диапазон от 0 до 0,9 и\n",
    "# разделим его на десять точек, включая 0 и 0,9\n",
    "np.linspace(0, 0.9, 10) # позволяет указать диапазон начального и конечного значений, \n",
    "                        # а также количество равноудаленных точек внутри этого диапазона"
   ]
  },
  {
   "cell_type": "code",
   "execution_count": 58,
   "id": "faf17096",
   "metadata": {},
   "outputs": [
    {
     "data": {
      "text/plain": [
       "array([0. , 0.1, 0.2, 0.3, 0.4, 0.5, 0.6, 0.7, 0.8, 0.9])"
      ]
     },
     "execution_count": 58,
     "metadata": {},
     "output_type": "execute_result"
    }
   ],
   "source": [
    "# с функцией np.arange мы точно знаем, где будут расположены точки\n",
    "np.arange(0, 1, 0.1)"
   ]
  },
  {
   "cell_type": "code",
   "execution_count": 59,
   "id": "191fd6c0",
   "metadata": {},
   "outputs": [
    {
     "data": {
      "image/png": "[encoded data removed]",
      "text/plain": [
       "<Figure size 800x600 with 1 Axes>"
      ]
     },
     "metadata": {},
     "output_type": "display_data"
    }
   ],
   "source": [
    "# импортируем библиотеку matplotlib\n",
    "import matplotlib.pyplot as plt\n",
    " \n",
    "# зададим размер графика в дюймах\n",
    "plt.figure(figsize = (8, 6))\n",
    " \n",
    "# зададим интервал, например, от -5 до 5 и сформируем на нем 5000 точек\n",
    "# это будут наши координаты по оси x\n",
    "x = np.linspace(-5, 5, 5000)\n",
    " \n",
    "# по оси y отложим квадрат этих точек\n",
    "y = x ** 2\n",
    " \n",
    "# создадим сетку\n",
    "plt.grid()\n",
    " \n",
    "# выведем кривую и подписи на графике\n",
    "plt.plot(x, y)\n",
    "plt.xlabel('x', fontsize = 14)\n",
    "plt.ylabel('y', fontsize = 14)\n",
    " \n",
    "# результатом будет парабола\n",
    "plt.show()"
   ]
  },
  {
   "cell_type": "code",
   "execution_count": 60,
   "id": "f6e4ad47",
   "metadata": {},
   "outputs": [
    {
     "data": {
      "text/plain": [
       "array([-5.       , -4.9979996, -4.9959992, -4.9939988, -4.9919984,\n",
       "       -4.989998 , -4.9879976, -4.9859972, -4.9839968, -4.9819964])"
      ]
     },
     "execution_count": 60,
     "metadata": {},
     "output_type": "execute_result"
    }
   ],
   "source": [
    "x[:10]"
   ]
  },
  {
   "cell_type": "code",
   "execution_count": null,
   "id": "2c803885",
   "metadata": {},
   "outputs": [],
   "source": []
  }
 ],
 "metadata": {
  "kernelspec": {
   "display_name": "Python 3 (ipykernel)",
   "language": "python",
   "name": "python3"
  },
  "language_info": {
   "codemirror_mode": {
    "name": "ipython",
    "version": 3
   },
   "file_extension": ".py",
   "mimetype": "text/x-python",
   "name": "python",
   "nbconvert_exporter": "python",
   "pygments_lexer": "ipython3",
   "version": "3.9.13"
  }
 },
 "nbformat": 4,
 "nbformat_minor": 5
}
